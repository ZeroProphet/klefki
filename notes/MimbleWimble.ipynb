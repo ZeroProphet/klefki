{
 "cells": [
  {
   "cell_type": "markdown",
   "metadata": {},
   "source": [
    "Play MimbleWimble with klefki\n",
    "=========================\n",
    "\n"
   ]
  },
  {
   "cell_type": "code",
   "execution_count": 45,
   "metadata": {},
   "outputs": [],
   "source": [
    "from klefki.types.algebra.concrete import (\n",
    "    EllipticCurveGroupSecp256k1 as ECG,\n",
    "    FiniteFieldSecp256k1 as F,\n",
    "    FiniteFieldCyclicSecp256k1 as CF\n",
    ")\n",
    "import random\n",
    "import hashlib\n",
    "from klefki.utils import to_sha256int\n",
    "N = 0xFFFFFFFFFFFFFFFFFFFFFFFFFFFFFFFEBAAEDCE6AF48A03BBFD25E8CD0364141\n",
    "def random_cf() -> CF: return CF(random.randint(1, N) % F.P)\n",
    "G = ECG.G"
   ]
  },
  {
   "cell_type": "code",
   "execution_count": 46,
   "metadata": {},
   "outputs": [],
   "source": [
    "s = bytes.fromhex(\"0479be667ef9dcbbac55a06295ce870b07029bfcdb2dce28d959f2815b16f81798483ada7726a3c4655da4fbfc0e1108a8fd17b448a68554199c47d08ffb10d4b8\")\n",
    "x = int(hashlib.sha256(s).hexdigest(),16)"
   ]
  },
  {
   "cell_type": "code",
   "execution_count": 47,
   "metadata": {},
   "outputs": [],
   "source": [
    "H = ECG.lift_x(F(x))"
   ]
  },
  {
   "cell_type": "markdown",
   "metadata": {},
   "source": [
    "## Transacting with MimbleWimble"
   ]
  },
  {
   "cell_type": "markdown",
   "metadata": {},
   "source": [
    "The validation of MimbleWimble transactions relies on two basic properties:\n",
    "\n",
    "\n",
    "* Verification of zero sums.\n",
    "\n",
    "The sum of outputs minus inputs always equals zero, proving that the transaction did not create new funds, without revealing the actual amounts.\n",
    "    \n",
    "    \n",
    "* Possession of private keys. \n",
    "\n",
    "Like with most other cryptocurrencies, ownership of transaction outputs is guaranteed by the possession of ECC private keys. However, the proof that an entity owns those private keys is not achieved by directly signing the transaction.\n"
   ]
  },
  {
   "cell_type": "markdown",
   "metadata": {},
   "source": [
    "### Balance"
   ]
  },
  {
   "cell_type": "markdown",
   "metadata": {},
   "source": [
    "If v is the value of a transaction input or output and H a point on the elliptic curve C, we can simply embed $H^v$ instead of v in a transaction. This works because using the ECC operations, we can still validate that the sum of the outputs of a transaction equals the sum of inputs:\n",
    "\n"
   ]
  },
  {
   "cell_type": "code",
   "execution_count": 48,
   "metadata": {},
   "outputs": [],
   "source": [
    "v1, v2 = random_cf(), random_cf()"
   ]
  },
  {
   "cell_type": "code",
   "execution_count": 49,
   "metadata": {},
   "outputs": [
    {
     "data": {
      "text/plain": [
       "True"
      ]
     },
     "execution_count": 49,
     "metadata": {},
     "output_type": "execute_result"
    }
   ],
   "source": [
    "v3 = v1 + v2\n",
    "H@v3 == (H@v1) + (H@v2)"
   ]
  },
  {
   "cell_type": "code",
   "execution_count": 50,
   "metadata": {},
   "outputs": [
    {
     "data": {
      "text/plain": [
       "True"
      ]
     },
     "execution_count": 50,
     "metadata": {},
     "output_type": "execute_result"
    }
   ],
   "source": [
    "H@v3 == H@(v1+v2)"
   ]
  },
  {
   "cell_type": "markdown",
   "metadata": {},
   "source": [
    "An input or output value in a transaction can then be expressed as:\n",
    "\n",
    "$$\n",
    "rG + vH\n",
    "$$\n",
    "\n",
    "Where:\n",
    "\n",
    "$r$ is a private key used as a blinding factor.\n",
    "\n",
    "$v$ is the value of an input or output and H is another point on the elliptic curve C"
   ]
  },
  {
   "cell_type": "markdown",
   "metadata": {},
   "source": [
    "As an example, let's assume we want to build a transaction with two inputs and one output. We have (ignoring fees):\n",
    "\n",
    "* $vi_1$ and $vi_2$ as input values\n",
    "* $vo_3$ as output value.\n",
    "\n",
    "Such that:\n",
    "\n",
    "$$\n",
    "vi_1 + vi_2 = vo_3\n",
    "$$"
   ]
  },
  {
   "cell_type": "markdown",
   "metadata": {},
   "source": [
    "Generating a private key as a blinding factor for each input value and replacing each value with their respective Pedersen Commitments in the previous equation, we obtain:"
   ]
  },
  {
   "cell_type": "markdown",
   "metadata": {},
   "source": [
    "$$\n",
    "(ri_1G + vi_1H) + (ri_2G + vi_2H) = (ro_3G + vo_3H)\n",
    "$$\n",
    "\n",
    "Which as a consequence requires that:\n",
    "\n",
    "$$\n",
    "ri_1 + ri_2 = ro_3\n",
    "$$"
   ]
  },
  {
   "cell_type": "code",
   "execution_count": 51,
   "metadata": {},
   "outputs": [],
   "source": [
    "v1, v2 = random_cf(), random_cf()\n",
    "v3 = v1 + v2\n",
    "assert v1 + v2 == v3"
   ]
  },
  {
   "cell_type": "code",
   "execution_count": 52,
   "metadata": {},
   "outputs": [],
   "source": [
    "r1, r2 = random_cf(), random_cf()\n",
    "\n",
    "r3 = r1 + r2"
   ]
  },
  {
   "cell_type": "code",
   "execution_count": 53,
   "metadata": {},
   "outputs": [
    {
     "data": {
      "text/plain": [
       "True"
      ]
     },
     "execution_count": 53,
     "metadata": {},
     "output_type": "execute_result"
    }
   ],
   "source": [
    "G@r1 + G@r2 == G@r3"
   ]
  },
  {
   "cell_type": "code",
   "execution_count": 54,
   "metadata": {},
   "outputs": [
    {
     "data": {
      "text/plain": [
       "True"
      ]
     },
     "execution_count": 54,
     "metadata": {},
     "output_type": "execute_result"
    }
   ],
   "source": [
    "H@v1 + H@v2 == H@v3"
   ]
  },
  {
   "cell_type": "code",
   "execution_count": 57,
   "metadata": {},
   "outputs": [
    {
     "data": {
      "text/plain": [
       "True"
      ]
     },
     "execution_count": 57,
     "metadata": {},
     "output_type": "execute_result"
    }
   ],
   "source": [
    "(G@r1 + H@v1) + (G@r2 + H@v2) == G@r3 + H@v3"
   ]
  },
  {
   "cell_type": "markdown",
   "metadata": {},
   "source": [
    "## Ownership"
   ]
  },
  {
   "cell_type": "markdown",
   "metadata": {},
   "source": [
    "In the previous section we introduced a private key as a blinding factor to obscure the transaction's values. The second insight of Mimblewimble is that this private key can be leveraged to prove ownership of the value.\n",
    "\n",
    "Alice sends you 3 coins and to obscure that amount, you chose 28 as your blinding factor (note that in practice the blinding factor, being a private key, is an extremely large number). Somewhere on the blockchain, the following output appears and should only be spendable by you:"
   ]
  },
  {
   "cell_type": "markdown",
   "metadata": {},
   "source": [
    "$$\n",
    "X = 28G + 3H\n",
    "$$"
   ]
  },
  {
   "cell_type": "code",
   "execution_count": 59,
   "metadata": {},
   "outputs": [],
   "source": [
    "x = G@28 + H@3"
   ]
  },
  {
   "cell_type": "markdown",
   "metadata": {},
   "source": [
    "$X$, the addition result, is visible to everyone. The value 3 is only known to you and Alice, and 28 is only known to you.\n",
    "\n",
    "To transfer those 3 coins again, the protocol requires 28 to be known somehow. To demonstrate how this works, let's say you want to transfer those 3 same coins to Carol. You need to build a simple transaction such that:\n",
    "$$\n",
    "Xi \\rightarrow Y\n",
    "$$"
   ]
  },
  {
   "cell_type": "markdown",
   "metadata": {},
   "source": [
    "Where $Xi$ is an input that spends your $X$ output and $Y$ is Carol's output. There is no way to build such a transaction and balance it without knowing your private key of 28. Indeed, if Carol is to balance this transaction, she needs to know both the value sent and your private key so that:\n",
    "$$\n",
    "Y - Xi = (28G + 3H) - (28G + 3H) = 0G + 0H\n",
    "$$\n"
   ]
  },
  {
   "cell_type": "markdown",
   "metadata": {},
   "source": [
    "By checking that everything has been zeroed out, we can again make sure that no new money has been created.\n",
    "\n",
    "Wait! Stop! Now you know the private keys in Carol's output (which, in this case, must be the same as yours to balance out) and so you could steal the money back from Carol!\n",
    "\n",
    "To solve this, Carol uses a private key of her choosing. She picks 113 say, and what ends up on the blockchain is:\n",
    "\n"
   ]
  },
  {
   "cell_type": "markdown",
   "metadata": {},
   "source": [
    "$$\n",
    "Y - Xi = (113G + 3H) - (28G + 3H) = 85G + 0H\n",
    "$$"
   ]
  },
  {
   "cell_type": "code",
   "execution_count": 60,
   "metadata": {},
   "outputs": [
    {
     "data": {
      "text/plain": [
       "True"
      ]
     },
     "execution_count": 60,
     "metadata": {},
     "output_type": "execute_result"
    }
   ],
   "source": [
    "(G@113 + H@3) - (G@28+H@3) == G@85 + H@0"
   ]
  },
  {
   "cell_type": "markdown",
   "metadata": {},
   "source": [
    "Now the transaction no longer sums to zero and we have an excess value (85), which is the result of the summation (and correspondingly subtraction) of all blinding factors. Note that $85G$ is a valid public key for the generator point $G$.\n",
    "\n",
    "Therefore, the protocol needs to verify that the transacting parties collectively can produce the private key (85 in the above example) for the resulting point Y - Xi (this should be the corresponding public key, for generator point $G$; $85G$ in the above example). A simple way of doing so is by using the public key $Y - Xi (85G)$ to verify a signature, that was signed using the excess value (85). This ensures that:\n",
    "\n",
    "   * The transacting parties collectively can produce the private key (the excess value) for the public key ($Y - Xi$).\n",
    "    \n",
    "   * The sum of values in the outputs minus the sum of values in the inputs is zero (otherwise there would be no correspondence between private and public keys, which is exactly the reason for having a signature).\n",
    "\n"
   ]
  },
  {
   "cell_type": "markdown",
   "metadata": {},
   "source": [
    "This signature, attached to every transaction, together with some additional data (like mining fees), is called a transaction kernel and is checked by all validators."
   ]
  },
  {
   "cell_type": "code",
   "execution_count": null,
   "metadata": {},
   "outputs": [],
   "source": []
  },
  {
   "cell_type": "markdown",
   "metadata": {},
   "source": [
    "### Ref:\n",
    "\n",
    "[1] Intro (Grin) https://github.com/mimblewimble/grin/blob/master/doc/intro.md"
   ]
  }
 ],
 "metadata": {
  "kernelspec": {
   "display_name": "Python 3",
   "language": "python",
   "name": "python3"
  },
  "language_info": {
   "codemirror_mode": {
    "name": "ipython",
    "version": 3
   },
   "file_extension": ".py",
   "mimetype": "text/x-python",
   "name": "python",
   "nbconvert_exporter": "python",
   "pygments_lexer": "ipython3",
   "version": "3.8.2"
  }
 },
 "nbformat": 4,
 "nbformat_minor": 2
}
