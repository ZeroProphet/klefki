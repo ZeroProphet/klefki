{
 "cells": [
  {
   "cell_type": "markdown",
   "metadata": {},
   "source": [
    "ElGamal\n",
    "==============="
   ]
  },
  {
   "cell_type": "markdown",
   "metadata": {},
   "source": [
    "## Diffie-Hellman key distribution scheme"
   ]
  },
  {
   "cell_type": "markdown",
   "metadata": {},
   "source": [
    "IN 1975, Diffie and Hellman introduced the concept of public key cryptography.\n",
    "\n",
    "Suppose that $A$ and $B$ want to share a secret $K_{AB}$ , where A has a secret $x_A$ and $B$ has a secret $x_B$ . Let $p$ be a large prime and $\\alpha$ be a **primitive element** mod $p$, both known. computes $y \\equiv \\alpha^{x_a} \\mod p$ , and sends $y_A$ . Similarly, $B$ computes $y_B \\equiv \\alpha^{x_B} \\mod p$ and sends $y_B$ . Then the secret $K_{AB}$ is computed as:\n",
    "\n",
    "\\begin{align}\n",
    "K_{AB} &\\equiv \\alpha^{x_ax_B} \\mod p\\\\\n",
    "&\\equiv y_A^{x_B} \\mod p\\\\\n",
    "&\\equiv y_B^{x_A} \\mod p\n",
    "\\end{align}\n",
    "\n",
    "In any of the cryptographic systems based on discrete logarithms, p must be chosen such that $p - 1$ has at least one large prime factor. If $p - 1$ has only small prime factors, then computing discrete logarithms is easy"
   ]
  },
  {
   "cell_type": "code",
   "execution_count": 1,
   "metadata": {},
   "outputs": [],
   "source": [
    "from klefki.numbers.primes import generate_prime\n",
    "from klefki.algebra.meta import field\n",
    "from klefki.algebra.utils import randfield\n",
    "from math import gcd"
   ]
  },
  {
   "cell_type": "code",
   "execution_count": 2,
   "metadata": {},
   "outputs": [],
   "source": [
    "p = generate_prime(32)\n",
    "F = field(p)\n",
    "mF = field(p-1)\n",
    "G = F(generate_prime(32))"
   ]
  },
  {
   "cell_type": "code",
   "execution_count": 3,
   "metadata": {},
   "outputs": [
    {
     "data": {
      "text/plain": [
       "True"
      ]
     },
     "execution_count": 3,
     "metadata": {},
     "output_type": "execute_result"
    }
   ],
   "source": [
    "xa, xb = randfield(F).value, randfield(F).value\n",
    "ya, yb = G ** xa, G ** xb\n",
    "G ** (xa * xb) == ya ** xb == yb ** xa"
   ]
  },
  {
   "cell_type": "markdown",
   "metadata": {},
   "source": [
    "## ElGamal signature scheme"
   ]
  },
  {
   "cell_type": "markdown",
   "metadata": {},
   "source": [
    "Let m be a document to be signed, where $0 \\le m \\ge p - 1$. The public file still consists of the public key $y \\equiv x \\mod p$ for each user."
   ]
  },
  {
   "cell_type": "markdown",
   "metadata": {},
   "source": [
    "To sign a document, a user $A$ should be able to use the secret key $x_A$ to find a signature for $m$ in such a way that all users can verify the authenticity of the signature by using the public key $y_A$ (together with $\\alpha$ and $p$), and no one can forge a signature without knowing the secret $x_A$ ."
   ]
  },
  {
   "cell_type": "markdown",
   "metadata": {},
   "source": [
    "The signature for $m$ is the pair $(r, s), 0 \\le r, s < p - 1$, chosen such that the equation\n",
    "\n",
    "$$\n",
    "\\alpha^m \\equiv y^r r^s \\mod p\n",
    "$$\n",
    "\n",
    "is satisfied."
   ]
  },
  {
   "cell_type": "code",
   "execution_count": 4,
   "metadata": {},
   "outputs": [],
   "source": [
    "m = randfield(F).value\n",
    "alpha = G\n",
    "x = xa\n",
    "y = ya"
   ]
  },
  {
   "cell_type": "markdown",
   "metadata": {},
   "source": [
    "* The Signing Procedure"
   ]
  },
  {
   "cell_type": "markdown",
   "metadata": {},
   "source": [
    "The signing procedure consists of the following three steps.\n",
    "\n",
    "1) Choose a random number $k$, uniformly between $0$ and $p - 1$, such that $gcd(k, p - 1) = 1$.\n",
    "\n",
    "2) Compute\n",
    "\n",
    "$$\n",
    "r \\equiv \\alpha^k \\mod p\\\\\n",
    "\\alpha^m \\equiv \\alpha^{xr}\\alpha^{ks} \\mod p\n",
    "$$\n",
    "\n",
    "which can be solved for $s$ by using\n",
    "\n",
    "$$\n",
    "m \\equiv xr + ks \\mod (p-1)\n",
    "$$\n",
    "\n",
    "Above Equation as a solution for $s$ if $k$ is chosen such that $gcd(k, p - 1) = 1$."
   ]
  },
  {
   "cell_type": "code",
   "execution_count": 5,
   "metadata": {},
   "outputs": [],
   "source": [
    "k = generate_prime(32)\n",
    "assert gcd(k, p-1) == 1"
   ]
  },
  {
   "cell_type": "code",
   "execution_count": 6,
   "metadata": {},
   "outputs": [],
   "source": [
    "from klefki.numbers import invmod\n",
    "r = (alpha ** k).value\n",
    "s = ((mF(m) - mF(r) * mF(x)) * ~mF(k)).value\n"
   ]
  },
  {
   "cell_type": "code",
   "execution_count": 7,
   "metadata": {},
   "outputs": [],
   "source": [
    "assert pow(alpha, m) ==  pow(alpha, (x * r + k * s))"
   ]
  },
  {
   "cell_type": "markdown",
   "metadata": {},
   "source": [
    "* The Verification Procedure\n",
    "\n",
    "Given $m, r$, an $s$, it is easy to verify the authenticity of the signature by computing both sides of $\\alpha^m \\equiv y^r r^s \\mod p$ and checking that they are equal."
   ]
  },
  {
   "cell_type": "code",
   "execution_count": 8,
   "metadata": {},
   "outputs": [
    {
     "data": {
      "text/plain": [
       "True"
      ]
     },
     "execution_count": 8,
     "metadata": {},
     "output_type": "execute_result"
    }
   ],
   "source": [
    "alpha ** m == y ** r * F(r) ** s"
   ]
  },
  {
   "cell_type": "markdown",
   "metadata": {},
   "source": [
    "## ElGamal encryption over Cyclic Group"
   ]
  },
  {
   "cell_type": "code",
   "execution_count": 9,
   "metadata": {},
   "outputs": [],
   "source": [
    "from klefki.curves.secp256k1 import EllipticCurveGroupSecp256k1 as Curve\n",
    "from klefki.curves.secp256k1 import FiniteFieldSecp256k1 as F\n",
    "\n",
    "from klefki.algebra.meta import field"
   ]
  },
  {
   "cell_type": "markdown",
   "metadata": {},
   "source": [
    "### Key generation\n",
    "\n",
    "The first party, Alice, generates a key pair as follows:\n",
    "\n",
    "* Generate an efficient description of a cyclic group $G$, of order $q$  with generator $g$. Let $e$ represent the unit element of $G$.\n",
    "\n",
    "* Choose an integer $x\\leftarrow Z_q$\n",
    "\n",
    "* Compute $h:=g^x$\n",
    "\n",
    "* he public key consists of the values $( G , q , g , h )$. Alice publishes this public key and retains $x$ as her private key, which must be kept secret."
   ]
  },
  {
   "cell_type": "code",
   "execution_count": 10,
   "metadata": {},
   "outputs": [],
   "source": [
    "G = Curve.G\n",
    "sk = randfield(F)\n",
    "H = G @ sk\n"
   ]
  },
  {
   "cell_type": "markdown",
   "metadata": {},
   "source": [
    "### Encryption"
   ]
  },
  {
   "cell_type": "markdown",
   "metadata": {},
   "source": [
    "A second party, Bob, encrypts a message $M$ to Alice under her public key $( G , q , g , h )$  as follows: "
   ]
  },
  {
   "cell_type": "markdown",
   "metadata": {},
   "source": [
    "* Map the message $M$ to an element $m$ of $G$ using a reversible mapping function.\n",
    "\n",
    "* Choose an integer $y$ randomly from $\\{ 1 , … , q − 1 \\}$ \n",
    "\n",
    "* Compute $s := h^y$. This is called the shared secret.\n",
    "\n",
    "* Compute $c_1 := g^y$\n",
    "\n",
    "* Compute $c_2 := m \\cdot s$\n",
    "\n",
    "Bob sends the ciphertext $( c_1 , c_2 )$ to Alice."
   ]
  },
  {
   "cell_type": "markdown",
   "metadata": {},
   "source": [
    "$$\n",
    "c=g^r, h^{mr}\n",
    "$$"
   ]
  },
  {
   "cell_type": "code",
   "execution_count": 11,
   "metadata": {},
   "outputs": [],
   "source": [
    "M = F(1235)"
   ]
  },
  {
   "cell_type": "code",
   "execution_count": 12,
   "metadata": {
    "scrolled": true
   },
   "outputs": [
    {
     "data": {
      "text/plain": [
       "(EllipticCurveGroupSecp256k1::(FiniteFieldSecp256k1::0x2bdccd6af7b6d7cf90bfeaa8fa922a4069162ce391f4ad5f9257bb07e2535ca6, FiniteFieldSecp256k1::0x1a90f2fbf9c51a5f0f478ca1bf9afa916b294654c8a73df64be31c8a90d234f5),\n",
       " EllipticCurveGroupSecp256k1::(FiniteFieldSecp256k1::0xef75ef7bd44f017acb03cb9f6327534363d878a7343c84b2475ce461b6707c9d, FiniteFieldSecp256k1::0x1fd86243e16fb44649eedb19a29279f410a4f5887c60ce9a5a02179b3644abeb))"
      ]
     },
     "execution_count": 12,
     "metadata": {},
     "output_type": "execute_result"
    }
   ],
   "source": [
    "y = randfield(F).value\n",
    "m = Curve.lift_x(M)\n",
    "\n",
    "c1 = G @ y\n",
    "c2 = H @ y + m\n",
    "\n",
    "(c1, c2)"
   ]
  },
  {
   "cell_type": "markdown",
   "metadata": {},
   "source": [
    "### Decryption"
   ]
  },
  {
   "cell_type": "markdown",
   "metadata": {},
   "source": [
    "Alice decrypts a ciphertext $c_1, c_2$ with her private key $sk$ as follows: "
   ]
  },
  {
   "cell_type": "markdown",
   "metadata": {},
   "source": [
    "* Compute $s := c_1^{x}$.\n",
    "\n",
    "* Compute $s^{-1}$,  the inverse of $s$ in the group $G$.\n",
    "\n",
    "* Compute $m:=c_2\\cdot s^{-1}$\n"
   ]
  },
  {
   "cell_type": "markdown",
   "metadata": {},
   "source": [
    "\n",
    "\\begin{align}\n",
    "m&=\\frac{c_2}{c_1^x}=\\frac{H^{rm}}{G^{xr}}=\\frac{G^{xrm}}{G^{xr}}\n",
    "\\end{align}\n"
   ]
  },
  {
   "cell_type": "code",
   "execution_count": 13,
   "metadata": {},
   "outputs": [],
   "source": [
    "m = (c2 - (c1 @ sk))"
   ]
  },
  {
   "cell_type": "code",
   "execution_count": 14,
   "metadata": {},
   "outputs": [
    {
     "data": {
      "text/plain": [
       "True"
      ]
     },
     "execution_count": 14,
     "metadata": {},
     "output_type": "execute_result"
    }
   ],
   "source": [
    "m.x == M"
   ]
  },
  {
   "cell_type": "markdown",
   "metadata": {},
   "source": [
    "# Test\n"
   ]
  },
  {
   "cell_type": "code",
   "execution_count": 15,
   "metadata": {},
   "outputs": [],
   "source": [
    "from klefki.curves.secp256k1 import EllipticCurveGroupSecp256k1 as Curve\n",
    "from klefki.curves.secp256k1 import FiniteFieldCyclicSecp256k1 as CF\n",
    "from klefki.curves.secp256k1 import FiniteFieldSecp256k1 as F\n",
    "from klefki.algebra.meta import field\n",
    "from klefki.blockchain.ethereum.private import decode_privkey, encode_privkey\n",
    "from klefki.crypto.ecdsa.secp256k1 import pubkey\n",
    "\n",
    "\n",
    "from klefki.utils import int_to_byte, byte_to_int\n",
    "\n",
    "key = decode_privkey(\"65860affb4b570dba06db294aa7c676f68e04a5bf2721243ad3cbc05a79c68c0\")"
   ]
  },
  {
   "cell_type": "code",
   "execution_count": 16,
   "metadata": {},
   "outputs": [],
   "source": [
    "\n",
    "pubkey = G @ F(key)"
   ]
  },
  {
   "cell_type": "code",
   "execution_count": 17,
   "metadata": {},
   "outputs": [
    {
     "data": {
      "text/plain": [
       "[226,\n",
       " 15,\n",
       " 49,\n",
       " 60,\n",
       " 133,\n",
       " 119,\n",
       " 254,\n",
       " 51,\n",
       " 180,\n",
       " 4,\n",
       " 209,\n",
       " 133,\n",
       " 17,\n",
       " 253,\n",
       " 134,\n",
       " 129,\n",
       " 149,\n",
       " 245,\n",
       " 53,\n",
       " 173,\n",
       " 45,\n",
       " 62,\n",
       " 36,\n",
       " 113,\n",
       " 168,\n",
       " 153,\n",
       " 24,\n",
       " 91,\n",
       " 137,\n",
       " 141,\n",
       " 81,\n",
       " 47]"
      ]
     },
     "execution_count": 17,
     "metadata": {},
     "output_type": "execute_result"
    }
   ],
   "source": [
    "[int(i) for i in int_to_byte(pubkey.x.value)]"
   ]
  },
  {
   "cell_type": "code",
   "execution_count": 18,
   "metadata": {},
   "outputs": [],
   "source": [
    "m_x = [253, 0, 0, 0, 0, 0, 0, 0, 0, 0, 0, 0, 0, 0, 0, 0, 0, 0, 0, 0, 0, 0, 0, 0, 0, 0, 0, 0, 116, 101, 115, 116]\n",
    "m_y = [102, 240, 6, 242, 139, 13, 202, 191, 92, 132, 250, 2, 205, 187, 196, 131, 154, 248, 95, 123, 242, 215, 83, 237, 38, 195, 221, 29, 137, 141, 2, 132]"
   ]
  },
  {
   "cell_type": "code",
   "execution_count": 19,
   "metadata": {},
   "outputs": [],
   "source": [
    "m_x = F(byte_to_int(m_x))\n",
    "m_y = F(byte_to_int(m_y))"
   ]
  },
  {
   "cell_type": "code",
   "execution_count": 20,
   "metadata": {},
   "outputs": [
    {
     "data": {
      "text/plain": [
       "EllipticCurveGroupSecp256k1::(FiniteFieldSecp256k1::0xfd00000000000000000000000000000000000000000000000000000074657374, FiniteFieldSecp256k1::0x66f006f28b0dcabf5c84fa02cdbbc4839af85f7bf2d753ed26c3dd1d898d0284)"
      ]
     },
     "execution_count": 20,
     "metadata": {},
     "output_type": "execute_result"
    }
   ],
   "source": [
    "m = Curve(m_x, m_y)\n",
    "m"
   ]
  },
  {
   "cell_type": "code",
   "execution_count": 21,
   "metadata": {},
   "outputs": [],
   "source": [
    "r = F(0x1f9275dbafdfba81942eb3330b07f38cbee4ebb86bdc2174af9648d5f5509a54)"
   ]
  },
  {
   "cell_type": "code",
   "execution_count": 22,
   "metadata": {},
   "outputs": [
    {
     "data": {
      "text/plain": [
       "[31,\n",
       " 146,\n",
       " 117,\n",
       " 219,\n",
       " 175,\n",
       " 223,\n",
       " 186,\n",
       " 129,\n",
       " 148,\n",
       " 46,\n",
       " 179,\n",
       " 51,\n",
       " 11,\n",
       " 7,\n",
       " 243,\n",
       " 140,\n",
       " 190,\n",
       " 228,\n",
       " 235,\n",
       " 184,\n",
       " 107,\n",
       " 220,\n",
       " 33,\n",
       " 116,\n",
       " 175,\n",
       " 150,\n",
       " 72,\n",
       " 213,\n",
       " 245,\n",
       " 80,\n",
       " 154,\n",
       " 84]"
      ]
     },
     "execution_count": 22,
     "metadata": {},
     "output_type": "execute_result"
    }
   ],
   "source": [
    "[int(i) for i in int_to_byte(r.value)]"
   ]
  },
  {
   "cell_type": "code",
   "execution_count": 23,
   "metadata": {},
   "outputs": [],
   "source": [
    "c1 = G @ r\n"
   ]
  },
  {
   "cell_type": "code",
   "execution_count": 24,
   "metadata": {},
   "outputs": [
    {
     "data": {
      "text/plain": [
       "EllipticCurveGroupSecp256k1::(FiniteFieldSecp256k1::0xfca855e9dc774cd9346ca71beabcc55f48d594d46fff063b09866f79af09bd69, FiniteFieldSecp256k1::0x142d0d3df53288b7b6d2a97854cc4d8a0c74320973628af5183ddf9037b4e73b)"
      ]
     },
     "execution_count": 24,
     "metadata": {},
     "output_type": "execute_result"
    }
   ],
   "source": [
    "c1"
   ]
  },
  {
   "cell_type": "code",
   "execution_count": 25,
   "metadata": {},
   "outputs": [
    {
     "data": {
      "text/plain": [
       "[252,\n",
       " 168,\n",
       " 85,\n",
       " 233,\n",
       " 220,\n",
       " 119,\n",
       " 76,\n",
       " 217,\n",
       " 52,\n",
       " 108,\n",
       " 167,\n",
       " 27,\n",
       " 234,\n",
       " 188,\n",
       " 197,\n",
       " 95,\n",
       " 72,\n",
       " 213,\n",
       " 148,\n",
       " 212,\n",
       " 111,\n",
       " 255,\n",
       " 6,\n",
       " 59,\n",
       " 9,\n",
       " 134,\n",
       " 111,\n",
       " 121,\n",
       " 175,\n",
       " 9,\n",
       " 189,\n",
       " 105]"
      ]
     },
     "execution_count": 25,
     "metadata": {},
     "output_type": "execute_result"
    }
   ],
   "source": [
    "[int(i) for i in int_to_byte(c1.x.value)]"
   ]
  },
  {
   "cell_type": "code",
   "execution_count": 26,
   "metadata": {},
   "outputs": [
    {
     "data": {
      "text/plain": [
       "[20,\n",
       " 45,\n",
       " 13,\n",
       " 61,\n",
       " 245,\n",
       " 50,\n",
       " 136,\n",
       " 183,\n",
       " 182,\n",
       " 210,\n",
       " 169,\n",
       " 120,\n",
       " 84,\n",
       " 204,\n",
       " 77,\n",
       " 138,\n",
       " 12,\n",
       " 116,\n",
       " 50,\n",
       " 9,\n",
       " 115,\n",
       " 98,\n",
       " 138,\n",
       " 245,\n",
       " 24,\n",
       " 61,\n",
       " 223,\n",
       " 144,\n",
       " 55,\n",
       " 180,\n",
       " 231,\n",
       " 59]"
      ]
     },
     "execution_count": 26,
     "metadata": {},
     "output_type": "execute_result"
    }
   ],
   "source": [
    "[int(i) for i in int_to_byte(c1.y.value)]"
   ]
  },
  {
   "cell_type": "code",
   "execution_count": 27,
   "metadata": {},
   "outputs": [],
   "source": [
    "ss = pubkey @ r"
   ]
  },
  {
   "cell_type": "code",
   "execution_count": 28,
   "metadata": {},
   "outputs": [
    {
     "data": {
      "text/plain": [
       "98638154376543494645275106847376508464438552902924450790959126183159388906274"
      ]
     },
     "execution_count": 28,
     "metadata": {},
     "output_type": "execute_result"
    }
   ],
   "source": [
    "ss.x.value"
   ]
  },
  {
   "cell_type": "code",
   "execution_count": 29,
   "metadata": {},
   "outputs": [
    {
     "data": {
      "text/plain": [
       "[218,\n",
       " 19,\n",
       " 55,\n",
       " 137,\n",
       " 15,\n",
       " 46,\n",
       " 160,\n",
       " 160,\n",
       " 208,\n",
       " 222,\n",
       " 206,\n",
       " 77,\n",
       " 46,\n",
       " 79,\n",
       " 32,\n",
       " 80,\n",
       " 64,\n",
       " 243,\n",
       " 93,\n",
       " 23,\n",
       " 223,\n",
       " 130,\n",
       " 148,\n",
       " 226,\n",
       " 131,\n",
       " 17,\n",
       " 254,\n",
       " 95,\n",
       " 43,\n",
       " 95,\n",
       " 35,\n",
       " 34]"
      ]
     },
     "execution_count": 29,
     "metadata": {},
     "output_type": "execute_result"
    }
   ],
   "source": [
    "[int(i) for i in int_to_byte(ss.x.value)]"
   ]
  },
  {
   "cell_type": "code",
   "execution_count": 30,
   "metadata": {},
   "outputs": [
    {
     "data": {
      "text/plain": [
       "[106,\n",
       " 127,\n",
       " 47,\n",
       " 58,\n",
       " 214,\n",
       " 6,\n",
       " 110,\n",
       " 28,\n",
       " 171,\n",
       " 176,\n",
       " 73,\n",
       " 11,\n",
       " 34,\n",
       " 28,\n",
       " 125,\n",
       " 10,\n",
       " 82,\n",
       " 154,\n",
       " 84,\n",
       " 154,\n",
       " 11,\n",
       " 80,\n",
       " 191,\n",
       " 68,\n",
       " 111,\n",
       " 197,\n",
       " 98,\n",
       " 224,\n",
       " 84,\n",
       " 116,\n",
       " 208,\n",
       " 115]"
      ]
     },
     "execution_count": 30,
     "metadata": {},
     "output_type": "execute_result"
    }
   ],
   "source": [
    "[int(i) for i in int_to_byte(ss.y.value)]"
   ]
  },
  {
   "cell_type": "code",
   "execution_count": 31,
   "metadata": {},
   "outputs": [],
   "source": [
    "c2 = ss + m\n"
   ]
  },
  {
   "cell_type": "code",
   "execution_count": 32,
   "metadata": {},
   "outputs": [],
   "source": [
    "t = c1 @ key"
   ]
  },
  {
   "cell_type": "code",
   "execution_count": 33,
   "metadata": {},
   "outputs": [
    {
     "data": {
      "text/plain": [
       "[106,\n",
       " 127,\n",
       " 47,\n",
       " 58,\n",
       " 214,\n",
       " 6,\n",
       " 110,\n",
       " 28,\n",
       " 171,\n",
       " 176,\n",
       " 73,\n",
       " 11,\n",
       " 34,\n",
       " 28,\n",
       " 125,\n",
       " 10,\n",
       " 82,\n",
       " 154,\n",
       " 84,\n",
       " 154,\n",
       " 11,\n",
       " 80,\n",
       " 191,\n",
       " 68,\n",
       " 111,\n",
       " 197,\n",
       " 98,\n",
       " 224,\n",
       " 84,\n",
       " 116,\n",
       " 208,\n",
       " 115]"
      ]
     },
     "execution_count": 33,
     "metadata": {},
     "output_type": "execute_result"
    }
   ],
   "source": [
    "[int(i) for i in int_to_byte(t.y.value)]"
   ]
  },
  {
   "cell_type": "code",
   "execution_count": 34,
   "metadata": {},
   "outputs": [],
   "source": [
    "d = (c2 - (c1 @ key))"
   ]
  },
  {
   "cell_type": "code",
   "execution_count": 35,
   "metadata": {},
   "outputs": [
    {
     "data": {
      "text/plain": [
       "True"
      ]
     },
     "execution_count": 35,
     "metadata": {},
     "output_type": "execute_result"
    }
   ],
   "source": [
    "d.x == m.x"
   ]
  },
  {
   "cell_type": "markdown",
   "metadata": {},
   "source": [
    "## Ref:\n",
    "    \n",
    "   * T. ElGamal. A Public Key Cryptosystem and a Signature Scheme Based on Discrete Logarithms. IEEE Trans. Info. Theory, IT 31:469–472, 1985.\n",
    "    \n",
    "   * ElGamal encryption https://en.wikipedia.org/wiki/ElGamal_encryption\n",
    "    \n",
    "   * http://www.docsdrive.com/pdfs/ansinet/itj/2005/299-306.pdf"
   ]
  },
  {
   "cell_type": "code",
   "execution_count": null,
   "metadata": {},
   "outputs": [],
   "source": []
  },
  {
   "cell_type": "code",
   "execution_count": null,
   "metadata": {},
   "outputs": [],
   "source": []
  }
 ],
 "metadata": {
  "kernelspec": {
   "display_name": "Python 3",
   "language": "python",
   "name": "python3"
  },
  "language_info": {
   "codemirror_mode": {
    "name": "ipython",
    "version": 3
   },
   "file_extension": ".py",
   "mimetype": "text/x-python",
   "name": "python",
   "nbconvert_exporter": "python",
   "pygments_lexer": "ipython3",
   "version": "3.8.2"
  }
 },
 "nbformat": 4,
 "nbformat_minor": 2
}
