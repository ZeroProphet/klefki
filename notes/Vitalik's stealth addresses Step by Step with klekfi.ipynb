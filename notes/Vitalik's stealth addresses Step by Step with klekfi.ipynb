{
 "cells": [
  {
   "cell_type": "markdown",
   "metadata": {},
   "source": [
    "Paillier's encryption Scheme\n",
    "=========================="
   ]
  },
  {
   "cell_type": "markdown",
   "metadata": {},
   "source": [
    "<img width=60% src=\"https://vitalik.eth.limo/images/stealth/stealth_workflow.png\"/>"
   ]
  },
  {
   "cell_type": "code",
   "execution_count": 34,
   "metadata": {},
   "outputs": [],
   "source": [
    "from klefki.algebra.concrete import EllipticCurveGroupSecp256k1 as Curve\n",
    "from klefki.algebra.concrete import FiniteFieldCyclicSecp256k1 as F\n",
    "from klefki.algebra.utils import randfield\n",
    "from klefki.blockchain.ethereum.address import gen_address as addr\n",
    "G = Curve.G\n"
   ]
  },
  {
   "cell_type": "markdown",
   "metadata": {},
   "source": [
    "#### <i>1. Bob generates his root spending key (m) and stealth meta-address (M).</i>"
   ]
  },
  {
   "cell_type": "code",
   "execution_count": 19,
   "metadata": {},
   "outputs": [],
   "source": [
    "m = randfield(F)\n",
    "M = G @ m"
   ]
  },
  {
   "cell_type": "code",
   "execution_count": 20,
   "metadata": {},
   "outputs": [
    {
     "data": {
      "text/plain": [
       "(FiniteFieldCyclicSecp256k1::0x6725835acb15b840222bf4fa44ce6d99a214aec4d2ee2efe64ce04bd89b8d55c,\n",
       " EllipticCurveGroupSecp256k1::(FiniteFieldSecp256k1::0xde7b5f6b84fd039a79d4e70df49b174f9aaa89189524fda45f37662542e099c7, FiniteFieldSecp256k1::0x4a0ddcc995127c89ad532c29228a3c16f75afc497d94db38c20c315e20961192))"
      ]
     },
     "execution_count": 20,
     "metadata": {},
     "output_type": "execute_result"
    }
   ],
   "source": [
    "m, M"
   ]
  },
  {
   "cell_type": "markdown",
   "metadata": {},
   "source": [
    "#### 2. Bob adds an ENS record to register M as the stealth meta-address for bob.eth.\n",
    "#### 3. We assume Alice knows that Bob is bob.eth. Alice looks up his stealth meta-address M on ENS.\n",
    "#### 4. <i>Alice generates an ephemeral key that only she knows, and that she only uses once (to generate this specific stealth address).</i>"
   ]
  },
  {
   "cell_type": "code",
   "execution_count": 21,
   "metadata": {},
   "outputs": [],
   "source": [
    "r = randfield(F)"
   ]
  },
  {
   "cell_type": "markdown",
   "metadata": {},
   "source": [
    "#### <i>5. Alice uses an algorithm that combines her ephemeral key and Bob's meta-address to generate a stealth address. She can now send assets to this address.</i>"
   ]
  },
  {
   "cell_type": "markdown",
   "metadata": {},
   "source": [
    "##### Stealth addresses generation."
   ]
  },
  {
   "cell_type": "markdown",
   "metadata": {},
   "source": [
    "* Bob generates a key m, and computes M = G * m, where G is a commonly-agreed generator point for the elliptic curve. The stealth meta-address is an encoding of M.\n",
    "\n",
    "#### 6. Alice also generates her ephemeral public key, and publishes it to the ephemeral public key registry (this can be done in the same transaction as the first transaction sending assets to this stealth address).\n",
    "\n",
    "\n",
    "* Alice generates an ephemeral key r, and publishes the ephemeral public key R = G * r.\n",
    "\n"
   ]
  },
  {
   "cell_type": "code",
   "execution_count": 22,
   "metadata": {},
   "outputs": [],
   "source": [
    "R = G @ r"
   ]
  },
  {
   "cell_type": "markdown",
   "metadata": {},
   "source": [
    "* Alice can compute a shared secret S = M * r, and Bob can compute the same shared secret S = m * R.\n",
    "\n"
   ]
  },
  {
   "cell_type": "code",
   "execution_count": 24,
   "metadata": {},
   "outputs": [],
   "source": [
    "S = M @ r"
   ]
  },
  {
   "cell_type": "code",
   "execution_count": 25,
   "metadata": {},
   "outputs": [
    {
     "data": {
      "text/plain": [
       "True"
      ]
     },
     "execution_count": 25,
     "metadata": {},
     "output_type": "execute_result"
    }
   ],
   "source": [
    "S == M @ r == R @ m"
   ]
  },
  {
   "cell_type": "markdown",
   "metadata": {},
   "source": [
    "* In general, in both Bitcoin and Ethereum (including correctly-designed ERC-4337 accounts), an address is a hash containing the public key used to verify transactions from that address. So you can compute the address if you compute the public key. To compute the public key, Alice or Bob can compute P = M + G * hash(S)\n",
    "\n"
   ]
  },
  {
   "cell_type": "code",
   "execution_count": 44,
   "metadata": {},
   "outputs": [],
   "source": [
    "hash_s = F(int(addr(S), 16))"
   ]
  },
  {
   "cell_type": "code",
   "execution_count": 45,
   "metadata": {},
   "outputs": [],
   "source": [
    "P = M + G @ hash_s"
   ]
  },
  {
   "cell_type": "markdown",
   "metadata": {},
   "source": [
    "* To compute the private key for that address, Bob (and Bob alone) can compute p = m + hash(S)"
   ]
  },
  {
   "cell_type": "markdown",
   "metadata": {},
   "source": [
    "#### 7. For Bob to discover stealth addresses belonging to him, Bob needs to scan the ephemeral public key registry for the entire list of ephemeral public keys published by anyone for any reason since the last time he did the scan."
   ]
  },
  {
   "cell_type": "code",
   "execution_count": 46,
   "metadata": {},
   "outputs": [],
   "source": [
    "p = m + hash_s"
   ]
  },
  {
   "cell_type": "code",
   "execution_count": 48,
   "metadata": {},
   "outputs": [
    {
     "data": {
      "text/plain": [
       "True"
      ]
     },
     "execution_count": 48,
     "metadata": {},
     "output_type": "execute_result"
    }
   ],
   "source": [
    "G @ p == P"
   ]
  },
  {
   "cell_type": "markdown",
   "metadata": {},
   "source": [
    "#### 8.     For each ephemeral public key, Bob attempts to combine it with his root spending key to generate a stealth address, and checks if there are any assets in that address. If there are, Bob computes the spending key for that address and remembers it.\n",
    "\n"
   ]
  },
  {
   "cell_type": "markdown",
   "metadata": {},
   "source": [
    "### Together"
   ]
  },
  {
   "cell_type": "code",
   "execution_count": 1,
   "metadata": {},
   "outputs": [],
   "source": [
    "from klefki.algebra.concrete import EllipticCurveGroupSecp256k1 as Curve\n",
    "from klefki.algebra.concrete import FiniteFieldCyclicSecp256k1 as F\n",
    "from klefki.algebra.utils import randfield\n",
    "from klefki.blockchain.ethereum.address import gen_address as addr\n",
    "G = Curve.G\n",
    "m = randfield(F)\n",
    "M = G @ m\n",
    "r = randfield(F)\n",
    "R = G @ r\n",
    "S = M @ r\n",
    "assert S == M @ r == R @ m\n",
    "hash_s = F(int(addr(S), 16))\n",
    "P = M + G @ hash_s\n",
    "p = m + hash_s\n",
    "assert G @ p == P"
   ]
  },
  {
   "cell_type": "code",
   "execution_count": null,
   "metadata": {},
   "outputs": [],
   "source": []
  }
 ],
 "metadata": {
  "kernelspec": {
   "display_name": "Python 3",
   "language": "python",
   "name": "python3"
  },
  "language_info": {
   "codemirror_mode": {
    "name": "ipython",
    "version": 3
   },
   "file_extension": ".py",
   "mimetype": "text/x-python",
   "name": "python",
   "nbconvert_exporter": "python",
   "pygments_lexer": "ipython3",
   "version": "3.8.2"
  }
 },
 "nbformat": 4,
 "nbformat_minor": 4
}
