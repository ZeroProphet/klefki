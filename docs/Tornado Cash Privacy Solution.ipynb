{
 "cells": [
  {
   "cell_type": "code",
   "execution_count": 15,
   "metadata": {},
   "outputs": [
    {
     "name": "stdout",
     "output_type": "stream",
     "text": [
      "The autoreload extension is already loaded. To reload it, use:\n",
      "  %reload_ext autoreload\n"
     ]
    }
   ],
   "source": [
    "%load_ext autoreload\n",
    "\n",
    "%autoreload 2\n"
   ]
  },
  {
   "cell_type": "markdown",
   "metadata": {},
   "source": [
    "Tornado Cash Privacy Solution - implement with zkp-playground\n",
    "==========\n"
   ]
  },
  {
   "cell_type": "markdown",
   "metadata": {},
   "source": [
    "## Origin Paper\n",
    "Ref: https://tornado.cash/audits/TornadoCash_whitepaper_v1.4.pdf"
   ]
  },
  {
   "cell_type": "code",
   "execution_count": 16,
   "metadata": {},
   "outputs": [
    {
     "data": {
      "text/html": [
       "\n",
       "        <iframe\n",
       "            width=\"800\"\n",
       "            height=\"300\"\n",
       "            src=\"https://tornado.cash/audits/TornadoCash_whitepaper_v1.4.pdf\"\n",
       "            frameborder=\"0\"\n",
       "            allowfullscreen\n",
       "        ></iframe>\n",
       "        "
      ],
      "text/plain": [
       "<IPython.lib.display.IFrame at 0x108d4f910>"
      ]
     },
     "execution_count": 16,
     "metadata": {},
     "output_type": "execute_result"
    }
   ],
   "source": [
    "from IPython.display import IFrame\n",
    "IFrame(\"https://tornado.cash/audits/TornadoCash_whitepaper_v1.4.pdf\", width=800, height=300)"
   ]
  },
  {
   "cell_type": "markdown",
   "metadata": {},
   "source": [
    "## Protocol"
   ]
  },
  {
   "cell_type": "markdown",
   "metadata": {},
   "source": [
    "* Deposit money to the smart contract. This can be done in a single tx with a fixed amount $N$ of Ether. The $N$-ETH note is called a $coin$\n",
    "\n",
    "* Withdraw money from the smart contract can be done in 2 ways:\n",
    "\n",
    "    1. The $N$ ETH is withdrawn though a Relay with $f$ Ether sent as fee to the Relayer address $t$ and $(N-f)$ to the designated recipient. The value $f$ and $t$ is chosen by sender. In this case the withdraw tx is initiated by the RElayer and it pays the Gas fee that is supposed to be covered by $f$\n",
    "\n",
    "    2. The $N$ ETH is withdrawn to be designted recipent, the tx is initiated by the recipient. The recipient should have enough ETH to pay Gas fee for the tx. In that case fee $f$ is considered to be equal to 0.\n",
    "    "
   ]
  },
  {
   "cell_type": "markdown",
   "metadata": {},
   "source": [
    "### Setup\n",
    "\n",
    "Let $\\mathbb{B}={0, 1}$, Let $e$ be the pairing operation used in $SNARK$ proofs, which is defined over groups of prime order $q$.\n",
    "\n",
    "Let $H_1:\\mathbb{B}^* \\rightarrow \\mathbb{Z}_p$ be a Pedersen hash function. Let $H_2:(\\mathbb{Z}_p, \\mathbb{Z}_p\\rightarrow \\mathbb{Z}_p)$ be the MiMC hash function [ARG+16] defined as a MiMC permutation in the Feisten mode in a sponge mode of operaton.\n",
    "\n"
   ]
  },
  {
   "cell_type": "markdown",
   "metadata": {},
   "source": [
    "Let $\\tau$ be a Merkle tree of height 20, where etch non-leaf node hashes its 2 children with $H_2$. It is initalized with all leafs beinng 0 values. Later the zero values are gradually replaced wiith other values from $\\mathbb{Z}_p$. Let $O(\\tau, l)$ be the Merkle opening for leaf with index $l$ (value of sister nodes on the way from leaf $l$ to the root ,denoted by $R$ in tree $\\tau$\n",
    "\n",
    "\n"
   ]
  },
  {
   "cell_type": "code",
   "execution_count": 3,
   "metadata": {},
   "outputs": [],
   "source": [
    "from zkp_playground.types.structure import MerkleTree\n",
    "from zkp_playground.crypto.MiMC import FeistelMiMC"
   ]
  },
  {
   "cell_type": "markdown",
   "metadata": {},
   "source": [
    "Let us call $k\\in \\mathbb{B}^{248}$ a nullifier and $r \\in \\mathbb{B}^{248}$ a randomness. Let us denote an Ethereum of the coin recipient by $A$. (a left-nullifier n is such that $n + x = n$ for all $x \\in G$, and a right-nullifier $m$ has $x + m = m$ for all $x$. A left and right nullifier is a nullity.[1])"
   ]
  },
  {
   "cell_type": "markdown",
   "metadata": {},
   "source": [
    "Let $S[R, h, A, f, t]$ be the follow statement of knowledge with public values $R, h, A, f, t$:\n",
    "\n",
    "$$\n",
    "S[R,h,A,f,t] =\\\\ \\{ k, r\\in \\mathbb{B}^{248}, l\\in \\mathbb{B}^{248}, O \\in Z_p^{16};\n",
    "h = H_1(k) \\land O \\text{ is the opening of } H_2(k||r) \\text{ at position } l \\ to R \\}\n",
    "$$"
   ]
  },
  {
   "cell_type": "code",
   "execution_count": 12,
   "metadata": {},
   "outputs": [],
   "source": [
    "from random import randint"
   ]
  },
  {
   "cell_type": "code",
   "execution_count": 14,
   "metadata": {},
   "outputs": [],
   "source": [
    "k = randint(0, 2**248)\n",
    "r = randint(0, 2**248)"
   ]
  },
  {
   "cell_type": "markdown",
   "metadata": {},
   "source": [
    "where $A$ and $f$ are included into the context of the statement.  Herehis called nullifier  hash and || is concatenation of bitstrings."
   ]
  },
  {
   "cell_type": "markdown",
   "metadata": {},
   "source": [
    "Ref:\n",
    "[1]  https://www.mayhematics.com/m/m2_operations.htm"
   ]
  },
  {
   "cell_type": "code",
   "execution_count": null,
   "metadata": {},
   "outputs": [],
   "source": []
  }
 ],
 "metadata": {
  "kernelspec": {
   "display_name": "Python 3",
   "language": "python",
   "name": "python3"
  },
  "language_info": {
   "codemirror_mode": {
    "name": "ipython",
    "version": 3
   },
   "file_extension": ".py",
   "mimetype": "text/x-python",
   "name": "python",
   "nbconvert_exporter": "python",
   "pygments_lexer": "ipython3",
   "version": "3.8.2"
  }
 },
 "nbformat": 4,
 "nbformat_minor": 4
}
