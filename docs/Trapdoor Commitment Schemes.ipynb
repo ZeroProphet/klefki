{
 "cells": [
  {
   "cell_type": "markdown",
   "metadata": {},
   "source": [
    "Discrete-Logarithm-Based Trapdoor Commitment Schemes\n",
    "================================"
   ]
  },
  {
   "cell_type": "markdown",
   "metadata": {},
   "source": [
    "## I Introduction"
   ]
  },
  {
   "cell_type": "markdown",
   "metadata": {},
   "source": [
    "Trapdoors in commitment protocols have already been considered and constructed in the past; they are also called **equivocable commitment schemes** or **chameleon blobs** in the literature. "
   ]
  },
  {
   "cell_type": "markdown",
   "metadata": {},
   "source": [
    "### Commitment\n",
    "\n",
    "Instructively, one can describe a commitment scheme with a lockable steely box. In the so-called commitment phase, one party, the sender, puts a message into a box, locks the box and gives it to the other party, the receiver. On one hand, the receiver cannot open the box to learn the message, and on the other side, the sender cannot change the message anymore."
   ]
  },
  {
   "cell_type": "markdown",
   "metadata": {},
   "source": [
    "### non-malleable commitments"
   ]
  },
  {
   "cell_type": "markdown",
   "metadata": {},
   "source": [
    "a commitment scheme is non-malleable if giving the adversary the original commitment of the honest party does not signiﬁcantly increase his success probability of ﬁnding a commitment of a related message (e.g., a higher bid), compared to the case that the adversary does not have access to the honest party’s commitment at all."
   ]
  },
  {
   "cell_type": "markdown",
   "metadata": {},
   "source": [
    "### trapdoors commitment"
   ]
  },
  {
   "cell_type": "markdown",
   "metadata": {},
   "source": [
    "These are commitment schemes for which knowledge of a special information, the trapdoor, allows to overcome the binding property and to open a commitment ambiguously.\n",
    "\n",
    "Ambiguous decommitments are only possible given this special information; without, a commitment is still solidly binding."
   ]
  },
  {
   "cell_type": "markdown",
   "metadata": {},
   "source": [
    "**E.g.**\n",
    "\n",
    "On the bid auction case:\n",
    "\n",
    "the adversary ﬁrst sees the commitment of the other sender and is supposed to output his commitment to a higher bid afterwards.\n",
    "\n",
    "Assume that the honest sender’s commitment contains a trapdoor but the adversary’s commitment does not. Then, on one hand, the honest party’s bid can still be altered by the trapdoor property in principle, even after the adversary has submitted his value. On the other hand, the adversary’s commitment does not have a trapdoor and his value thenceforth is pinned down due to the binding property."
   ]
  },
  {
   "cell_type": "markdown",
   "metadata": {},
   "source": [
    "## II Notation\n",
    "\n",
    "### Turing Machine"
   ]
  },
  {
   "cell_type": "markdown",
   "metadata": {},
   "source": [
    "Let A be a probabilistic algorithm, or more formally, a Turing machine with a random tape. We say that A is polynomial-time if there exists a polynomial $p(n)$ such that A takes at most $p(n)$ steps on inputs of length $n$.\n",
    "\n",
    "Algorithm A runs in expected polynomial-time if A is polynomial-time on the average, the expectation taken over the internal random coins."
   ]
  },
  {
   "cell_type": "markdown",
   "metadata": {},
   "source": [
    "For a **deterministic algorithm** $A$ let **a = A(x)** be the output a of A on input x.\n",
    "\n",
    "If A is a **probabilistic algorithm** then we denote by **A(x)** the random variable that describes the output of A on input x.\n",
    "\n",
    "The probability space is deﬁned by the internal coin tosses of A.  In this case, we write $[A(x)]$ for the support of A on input x.\n",
    "\n",
    "By $a\\leftarrow A(x)$ we denote the process of sampling an output a of A on input x.\n",
    "\n",
    "$A(x, r)$ is the output of algorithm $A$ on input $x$ with random bits $r$"
   ]
  },
  {
   "cell_type": "markdown",
   "metadata": {},
   "source": [
    "### circuit"
   ]
  },
  {
   "cell_type": "markdown",
   "metadata": {},
   "source": [
    "A polynomial-size circuit family is a sequence $C=(C_n)_{n\\in \\mathbb{N}}$ of circuits $C_n$ with the property that the total number of gates of $C_n$, including the input gates, is polynomially bounded in $n$. "
   ]
  },
  {
   "cell_type": "markdown",
   "metadata": {},
   "source": [
    "## III Trapdoor Commitment Schemes"
   ]
  },
  {
   "cell_type": "markdown",
   "metadata": {},
   "source": [
    "The discrete-logarithm scheme includes a trapdoor.\n",
    "\n",
    "Let the simulator pick $p, q$ and $g$ as the trusted party, and let it generate $h = g^x \\mod p$ for random $x \\in Z_q$ . The simulator publishes these values.\n",
    "\n",
    "Basically, the value x, or more q precisely, the inverse $x^{-1}$ in, is the trapdoor. because if the simulator commits $q$ on behalf of the sender to some message $m_0$ by sending $M = g^{m_0}h^{r_0}$ for random $r_0 \\in Z_q$, then the simulator can open this commitment with any message $m \\in Z_q$ by computing $r := r_0 - (m - m_0)x^{−1}$. In this case\n",
    "\n",
    "\\begin{align}\n",
    "M &= g^{m0}h^{r0}\\\\\n",
    "&=g^{m0}h^{r+(m-m_0)x^{-1}}\\\\\n",
    "&=g^{m_0}h^rg^{m-m_0}\\\\\n",
    "&=g^mh^r\n",
    "\\end{align}\n",
    "\n",
    "---------------\n",
    "\n"
   ]
  },
  {
   "cell_type": "code",
   "execution_count": 1,
   "metadata": {},
   "outputs": [],
   "source": [
    "from zkp_playground.types.algebra.concrete import (\n",
    "    EllipticCurveGroupSecp256k1 as ECG,\n",
    "    EllipticCurveCyclicSubgroupSecp256k1 as CG,\n",
    "    FiniteFieldSecp256k1 as F,\n",
    "    FiniteFieldCyclicSecp256k1 as CF\n",
    ")\n",
    "import random\n",
    "\n",
    "N = 0xFFFFFFFFFFFFFFFFFFFFFFFFFFFFFFFEBAAEDCE6AF48A03BBFD25E8CD0364141\n",
    "def random_cf() -> CF: return CF(random.randint(1, N) % F.P)\n",
    "G = CG.G\n",
    "x = random_cf()\n",
    "H = G^x"
   ]
  },
  {
   "cell_type": "code",
   "execution_count": 2,
   "metadata": {},
   "outputs": [],
   "source": [
    "m0 , r0 = random_cf(), random_cf()\n",
    "M = G**m0 * H**r0 \n"
   ]
  },
  {
   "cell_type": "code",
   "execution_count": 3,
   "metadata": {},
   "outputs": [],
   "source": [
    "m = random_cf()\n",
    "r = r0 - (m - m0) * ~x"
   ]
  },
  {
   "cell_type": "code",
   "execution_count": 4,
   "metadata": {},
   "outputs": [],
   "source": [
    "assert M == G**m0 * H**r0 == G**m0 * H**(r+((m-m0)*~x)) == G**m * H**r"
   ]
  },
  {
   "cell_type": "markdown",
   "metadata": {},
   "source": [
    "---------\n",
    "\n",
    "Formally, we deﬁne all values necessary to adapt the decommitment as the trapdoor, i.e., here $(x, m_0 , r_0)$ form the trapdoor."
   ]
  },
  {
   "cell_type": "markdown",
   "metadata": {},
   "source": [
    "* **Definition Trapdoor Commit Scheme**"
   ]
  },
  {
   "cell_type": "markdown",
   "metadata": {},
   "source": [
    "Let $(S, R, T)$ be an M-commitment scheme. \n",
    "\n",
    "Then the scheme is called a **trapdoor M-commitment scheme** if for any probailistic polynormil-time algorithm $R^*$ there exists an expected polynomial-time algorithm $Sim$ such that for any sequence $m_n; n\\in \\mathbb{N}$ of message $m_n \\in M_n$ the following holds:\n",
    "\n",
    "$$\n",
    "\\text{on input $(comm, 1^n)$ the simulator $Sim $ outouts a tuple:}\\\\\n",
    "(\\omega_\\sigma, \\omega_{msg}, \\omega_{rnd, R^*}, \\omega_{out, sim}) \\leftarrow Sim(com, 1^n)\\\\\n",
    "\\text{such that given $\\omega_{out, sim}$ and the message $m_n$ the simulator returns}\\\\\n",
    "(\\omega_{rnd, S},\\omega_{out, S}, \\omega_{out, R^*}) = Sim(decom, 1^n, m_n, \\omega_{out, sim})\\\\\n",
    "\\text{with the property that $(\\omega_{\\sigma}, \\omega_{msg}, \\omega_{rnd, S}, \\omega_{rnd, R^*}, \\omega_{out, S}, \\omega_{out, R^*})$ is indistinguishable from}\\\\\n",
    "view_{S(comm, m_n), R*(comm), \\tau ^{1^n}}\n",
    "$$\n",
    "\n",
    "\n",
    "\n"
   ]
  },
  {
   "cell_type": "markdown",
   "metadata": {},
   "source": [
    "We say that the trapdoor scheme is:\n",
    "\n",
    "* perfectly simulative if the distributions are identical,\n",
    "\n",
    "* statistically simulative if the random variables are statistically close,\n",
    "\n",
    "* computationally simulative if the random variables are computationally indistinguishable.\n",
    "\n",
    "We call the Simulator's output $\\omega_{out, sim}$ a trapdoor."
   ]
  },
  {
   "cell_type": "markdown",
   "metadata": {},
   "source": [
    "## IV Identity-Based Trapdoor Commitments"
   ]
  },
  {
   "cell_type": "markdown",
   "metadata": {},
   "source": [
    "An identity-based commitment takes an aditional identiﬁer as input besides the message, typically this is a random bit string. Speciﬁcally, we assume that there is an eﬃciently samplable sequence $ID=(ID_n);n \\in \\mathbb{N}$ of random variables $ID_n$ over $s(n)$-bit strings. For pa- rameter n we let the sender use some of the random bits for the commitment to sample an identiﬁer $id_n \\leftarrow ID_nB, and let the sender append this sample $id_n$ to the commitment in clear."
   ]
  },
  {
   "cell_type": "markdown",
   "metadata": {},
   "source": [
    "We remark that the commitment itself may also depend on $id_n$. Then the deﬁnitions of statistically-binding and statistically-secret commit- ment schemes carry over to such **identity-based (ID, M)-commitment schemes**.\n",
    "\n",
    "\n",
    "#### Method 1"
   ]
  },
  {
   "cell_type": "markdown",
   "metadata": {},
   "source": [
    "we return to the commitment scheme based on the discrete-logarithm problem. the trusted party announces three gener ators $g_1 , g_2$ and $h$. A sender with identity $id ∈ {0, 1} s ⊆ Z_q$, computes his commitment to $m ∈ Z_q$ by \n",
    "\n",
    "$$\n",
    "M = (g_1^{id}g_2 )^m h^r\\\\\n",
    "g := g_1^{id} g_2\\\\\n",
    "h:= g^x\n",
    "$$ and sends $(id, M)$ to the receiver.\n",
    "\n"
   ]
  },
  {
   "cell_type": "markdown",
   "metadata": {},
   "source": [
    "-----------------\n"
   ]
  },
  {
   "cell_type": "code",
   "execution_count": 11,
   "metadata": {},
   "outputs": [],
   "source": [
    "from zkp_playground.types.algebra.concrete import (\n",
    "    EllipticCurveGroupSecp256k1 as ECG,\n",
    "    EllipticCurveCyclicSubgroupSecp256k1 as CG,\n",
    "    FiniteFieldSecp256k1 as F,\n",
    "    FiniteFieldCyclicSecp256k1 as CF\n",
    ")\n",
    "from zkp_playground.types.algebra.utils import randfield\n",
    "from zkp_playground.utils import to_sha256int\n",
    "\n",
    "\n",
    "G1 = ECG.lift_x(randfield(F))\n",
    "G2 = ECG.lift_x(randfield(F))\n",
    "G3 = ECG.lift_x(randfield(F))\n",
    "\n",
    "x = randfield(CF)\n",
    "\n",
    "id = randfield(CF)\n",
    "\n",
    "H = (G1** id * G2) ** x"
   ]
  },
  {
   "cell_type": "code",
   "execution_count": 12,
   "metadata": {},
   "outputs": [],
   "source": [
    "m = CF(to_sha256int(\"hello world\"))\n",
    "r = randfield(CF)"
   ]
  },
  {
   "cell_type": "code",
   "execution_count": 13,
   "metadata": {},
   "outputs": [],
   "source": [
    "M = (G1**id * G2) ** m * H ** r"
   ]
  },
  {
   "cell_type": "markdown",
   "metadata": {},
   "source": [
    "-------------------\n",
    "\n",
    "Instructively, the identity determines the generator $g := g_1^{id} g_2$ and the parties run the well-known protocol on the generators $g$ and $h$."
   ]
  },
  {
   "cell_type": "code",
   "execution_count": 14,
   "metadata": {},
   "outputs": [],
   "source": [
    "G = G1** id * G2"
   ]
  },
  {
   "cell_type": "code",
   "execution_count": 15,
   "metadata": {},
   "outputs": [],
   "source": [
    "m1 = CF(to_sha256int(\"hello trapdoor\"))\n",
    "r1 = r - (m1 - m) * ~x"
   ]
  },
  {
   "cell_type": "code",
   "execution_count": 16,
   "metadata": {},
   "outputs": [],
   "source": [
    "assert M == G**m * H**r == G**m1 * H**r1"
   ]
  },
  {
   "cell_type": "markdown",
   "metadata": {},
   "source": [
    "* **Definition Non-Interactive Identity-Based Trapdoor Commitment Scheme**"
   ]
  },
  {
   "cell_type": "markdown",
   "metadata": {},
   "source": [
    "Let $(S, R, T )$ be a non-interactive identity-based **(ID, M)-commitment scheme**. The scheme is called an **identity-based trapdoor (ID, M)-commitment scheme** if there ex- ists an expected polynomial-time algorithm $Sim$ such that for any sequence $(m_n); n∈N$ of messages $m_n ∈ M_n$ the following holds:"
   ]
  },
  {
   "cell_type": "markdown",
   "metadata": {},
   "source": [
    "$$\n",
    "\\text{on input $(comm, 1^n, id_0)$ where $id_0 \\leftarrow ID_n$ the simulator Sim outputs a tubple}\\\\\n",
    "(\\omega_\\sigma, \\omega_{msg}, id_0, \\omega_{out, sim}) \\leftarrow Sim(com, 1^n ,id_0)\\\\\n",
    "\\text{such that given $\\omega_{out, sim}, id_0$, and the message $m_n$ the simulator returns}\\\\\n",
    "\\text{with the property that $(\\omega_{sigma}, \\omega_{msg}, id_0, \\omega_{rnd, S}, \\omega_{out,S})$ is indistinguishable from $view_{S{com, m_n, R*(com), \\tau(1^n)}}$}\n",
    "$$"
   ]
  },
  {
   "cell_type": "markdown",
   "metadata": {},
   "source": [
    "We say that the trapdoor scheme is\n",
    "\n",
    "* perfectly simulative if the distributions are identical,\n",
    "\n",
    "* statistically simulative if the random variables are statistically close,\n",
    "\n",
    "* computationally simulative if the random variables are computationally indistinguishable."
   ]
  },
  {
   "cell_type": "markdown",
   "metadata": {},
   "source": [
    "We call the simulator’s output $\\omega_{out,Sim}$ together with $id_0$ a trapdoor."
   ]
  },
  {
   "cell_type": "markdown",
   "metadata": {},
   "source": [
    "#### Method 2"
   ]
  },
  {
   "cell_type": "markdown",
   "metadata": {},
   "source": [
    "For the discrete-logarithm setting the public parameters consist of a group $G_q ⊆ \\mathbb{Z}_p$ of prime order $q$ generated by some $g$ and of two further generators $g' , h$ of $G_q$ . To commit to $m ∈ \\mathbb{Z}_q$ with $id ∈ {0, 1}^s ⊆ \\mathbb{Z}_q$ the sender picks $r ∈ \\mathbb{Z}_q$ and computes:"
   ]
  },
  {
   "cell_type": "markdown",
   "metadata": {},
   "source": [
    "$$\n",
    "M:=(g^{id}g')^m h^r\n",
    "$$\n",
    "\n",
    "and sends M together with id to the receiver.\n",
    "\n",
    "To set up the identity-based trapdoor the simulator picks $G_q ⊆ Z$ and $g , h$ at random. Given the special identiﬁer $id ∈ Z_q$, the simulator selects $x ∈ Z_q$ and computes:\n",
    "\n",
    "$$\n",
    "g'=g^{-id}h^x\n",
    "$$"
   ]
  },
  {
   "cell_type": "markdown",
   "metadata": {},
   "source": [
    "\\begin{align}\n",
    "M &= (g^{id}g')^m h^r \\\\\n",
    "&= (g^{id}g^{-id}h^x)^mh^r\\\\\n",
    "&=h^{mx}h^r\\\\\n",
    "&=h^{mx+r}\n",
    "\\end{align}"
   ]
  },
  {
   "cell_type": "markdown",
   "metadata": {},
   "source": [
    "Let $r'=m'x-mx$\n",
    "\n",
    "--------------"
   ]
  },
  {
   "cell_type": "code",
   "execution_count": 45,
   "metadata": {},
   "outputs": [],
   "source": [
    "from zkp_playground.types.algebra.concrete import (\n",
    "    EllipticCurveGroupSecp256k1 as ECG,\n",
    "    EllipticCurveCyclicSubgroupSecp256k1 as CG,\n",
    "    FiniteFieldSecp256k1 as F,\n",
    "    FiniteFieldCyclicSecp256k1 as CF\n",
    ")\n",
    "from zkp_playground.types.algebra.utils import randfield\n",
    "from zkp_playground.utils import to_sha256int\n",
    "\n",
    "G = CG.G\n",
    "H = ECG.lift_x(randfield(F))\n",
    "\n",
    "x = randfield(CF)\n",
    "id = randfield(CF)\n",
    "\n",
    "G_ = G**(-id) * H ** x\n"
   ]
  },
  {
   "cell_type": "code",
   "execution_count": 46,
   "metadata": {},
   "outputs": [],
   "source": [
    "m = CF(to_sha256int(\"hello world\"))"
   ]
  },
  {
   "cell_type": "code",
   "execution_count": 47,
   "metadata": {},
   "outputs": [],
   "source": [
    "m_ = CF(to_sha256int(\"hello trapdoor\"))"
   ]
  },
  {
   "cell_type": "code",
   "execution_count": 55,
   "metadata": {},
   "outputs": [],
   "source": [
    "M = (G**id * G_) ** m * (H ** r)"
   ]
  },
  {
   "cell_type": "code",
   "execution_count": 58,
   "metadata": {},
   "outputs": [],
   "source": [
    "r_ = m*x - m_*x + r"
   ]
  },
  {
   "cell_type": "code",
   "execution_count": 59,
   "metadata": {},
   "outputs": [
    {
     "data": {
      "text/plain": [
       "True"
      ]
     },
     "execution_count": 59,
     "metadata": {},
     "output_type": "execute_result"
    }
   ],
   "source": [
    "M == H ** (m*x + r)"
   ]
  },
  {
   "cell_type": "markdown",
   "metadata": {},
   "source": [
    "## Ref\n",
    "\n",
    "* Fischlin, Marc. (2001). Trapdoor Commitment Schemes and Their Applications. "
   ]
  }
 ],
 "metadata": {
  "kernelspec": {
   "display_name": "Python 3",
   "language": "python",
   "name": "python3"
  },
  "language_info": {
   "codemirror_mode": {
    "name": "ipython",
    "version": 3
   },
   "file_extension": ".py",
   "mimetype": "text/x-python",
   "name": "python",
   "nbconvert_exporter": "python",
   "pygments_lexer": "ipython3",
   "version": "3.7.3"
  }
 },
 "nbformat": 4,
 "nbformat_minor": 2
}
