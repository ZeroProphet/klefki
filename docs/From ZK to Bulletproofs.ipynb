{
 "cells": [
  {
   "cell_type": "markdown",
   "metadata": {},
   "source": [
    "From ZK to Bulletproofs<br/>proof via Python\n",
    "================================="
   ]
  },
  {
   "cell_type": "markdown",
   "metadata": {},
   "source": [
    "## I Motivation"
   ]
  },
  {
   "cell_type": "markdown",
   "metadata": {},
   "source": [
    "**Prove that some condition holds true, without revealing anything else, but even better - do it using only a tiny amount of data!**"
   ]
  },
  {
   "cell_type": "markdown",
   "metadata": {},
   "source": [
    "## II Commitments"
   ]
  },
  {
   "cell_type": "markdown",
   "metadata": {},
   "source": [
    "Cryptographic commitments usually used in a situation **where you want to promise something is true before later proving it to be true**.\n",
    "\n",
    "Commitments **are only possible because of existence of one-way functions'**"
   ]
  },
  {
   "cell_type": "markdown",
   "metadata": {},
   "source": [
    "E.g. If Alice want to commit to the value \"2\", She can send Bob its hash (53c234e5e8472b6ac51c1ae1cab3fe06fad053beb8ebfd8977b010655bfdd3c3), the hash is the commitments of value \"2\"\n",
    "\n"
   ]
  },
  {
   "cell_type": "markdown",
   "metadata": {},
   "source": [
    "If Alice always send same commitment for value \"2\", it's lack of **Semantic Security**, so instead of commit to \"2\", Alice may commit to \"2\" + some random data(salt). The commitments may looks like $\\mathcal{H}(secret||salt)$"
   ]
  },
  {
   "cell_type": "markdown",
   "metadata": {},
   "source": [
    "Key properties of any commitment scheme:\n",
    "\n",
    "* **Hiding** - a commitment $C$ does not reveal the value it commit to.\n",
    "\n",
    "* **Binding** - have make the commitment $C(m)$ to $m$, you can't change your mind and open it as commitment to a different message $m'$"
   ]
  },
  {
   "cell_type": "markdown",
   "metadata": {},
   "source": [
    "## III Homorphic and Pedersen"
   ]
  },
  {
   "cell_type": "markdown",
   "metadata": {},
   "source": [
    "### A Pedersen commitment in elliptic curve form"
   ]
  },
  {
   "cell_type": "markdown",
   "metadata": {},
   "source": [
    "$$\n",
    "C=rH+aG\n",
    "$$"
   ]
  },
  {
   "cell_type": "markdown",
   "metadata": {},
   "source": [
    "$H$ is a curve point, for which nobody knows the discrete logarithm $q$ s.t. $H = qG$."
   ]
  },
  {
   "cell_type": "code",
   "execution_count": 3,
   "metadata": {},
   "outputs": [],
   "source": [
    "from zkp_playground.curves.secp256k1 import (\n",
    "    EllipticCurveGroupSecp256k1 as ECG,\n",
    "    FiniteFieldSecp256k1 as F,\n",
    "    FiniteFieldCyclicSecp256k1 as CF\n",
    ")\n",
    "\n",
    "\n",
    "G = ECG.G"
   ]
  },
  {
   "cell_type": "code",
   "execution_count": 4,
   "metadata": {},
   "outputs": [],
   "source": [
    "import random\n",
    "\n",
    "N = 0xFFFFFFFFFFFFFFFFFFFFFFFFFFFFFFFEBAAEDCE6AF48A03BBFD25E8CD0364141\n",
    "def random_cf() -> CF: return CF(random.randint(1, N) % F.P)"
   ]
  },
  {
   "cell_type": "code",
   "execution_count": 5,
   "metadata": {},
   "outputs": [],
   "source": [
    "q = random_cf()\n",
    "H = G @ q"
   ]
  },
  {
   "cell_type": "code",
   "execution_count": 6,
   "metadata": {},
   "outputs": [],
   "source": [
    "def C(r: CF, a: CF): return (H@r + G@a)"
   ]
  },
  {
   "cell_type": "markdown",
   "metadata": {},
   "source": [
    "### Homomorphism of Pedersen commitment"
   ]
  },
  {
   "cell_type": "markdown",
   "metadata": {},
   "source": [
    "$$\n",
    "C(r_1, a_1)+C(r_2, a_2) = r_1H+a_1G+r_2H+a_2G=(r_1+r_2)H+(a_1+a_2)G=C(r_1+r_2, a_1+a_2)\n",
    "$$"
   ]
  },
  {
   "cell_type": "code",
   "execution_count": 7,
   "metadata": {},
   "outputs": [],
   "source": [
    "r_1, a_1, r_2, a_2 = random_cf(), random_cf(), random_cf(), random_cf()"
   ]
  },
  {
   "cell_type": "code",
   "execution_count": 8,
   "metadata": {},
   "outputs": [],
   "source": [
    "assert C(r_1, a_1) + C(r_2, a_2) == H@r_1 + G@a_1 + H@r_2 + G@a_2"
   ]
  },
  {
   "cell_type": "code",
   "execution_count": 9,
   "metadata": {},
   "outputs": [],
   "source": [
    "assert C(r_1, a_1) + C(r_2, a_2) == C(r_1 + r_2, a_1 + a_2)"
   ]
  },
  {
   "cell_type": "markdown",
   "metadata": {},
   "source": [
    "### The Vector Pedersen Commitment"
   ]
  },
  {
   "cell_type": "markdown",
   "metadata": {},
   "source": [
    "### NUMS-ness and binding\n",
    "\n",
    "NUMS sands for \"Noting Up My Sleeve\". ref: https://en.wikipedia.org/wiki/Nothing-up-my-sleeve_number\n",
    "\n",
    "A easy way is to use a hash fuction like SHA256.\n",
    "\n",
    "For $C = rH_aG$ to find two scalar values $s,b$ that $s\\neq r, b\\neq a$ is impossible, unless the ECDLP(Ellipic Curve discrete Logarithm Problem) had cracked."
   ]
  },
  {
   "cell_type": "markdown",
   "metadata": {},
   "source": [
    "To extend to a more powerful form of the Pedersen commitment already deﬁned, we go from:\n",
    "    $$C = rH + aG$$\n",
    "    to:\n",
    "        $$C=rH + \\sum_{i=0}^n v_iG_i = rH + \\mathbf{v}\\mathbf{G}$$"
   ]
  },
  {
   "cell_type": "markdown",
   "metadata": {},
   "source": [
    "The individual G i s can be constructed using a simple algorithm of the form already mentioned (like, take a $\\mathcal{H}(encode(G)||i)$ where $\\mathcal{H}$ represents some hash function)."
   ]
  },
  {
   "cell_type": "markdown",
   "metadata": {},
   "source": [
    "Not: we can extend this yet further to create commitments to 2 or even multiple vectors; \n",
    "\n",
    "We just need a set of N NUMS base curve points for each vector we’re committing to, for example (2 vectors):\n",
    "\n",
    "$$\n",
    "C=rH+\\mathbf{vG}+\\mathbf{wH}\n",
    "$$"
   ]
  },
  {
   "cell_type": "markdown",
   "metadata": {},
   "source": [
    "Note here that the single curve point H is not part of the vector H."
   ]
  },
  {
   "cell_type": "code",
   "execution_count": 8,
   "metadata": {},
   "outputs": [],
   "source": [
    "from zkp_playground.types.algebra.utils import encode, decode\n",
    "from hashlib import sha256"
   ]
  },
  {
   "cell_type": "code",
   "execution_count": 9,
   "metadata": {},
   "outputs": [],
   "source": [
    "from functools import reduce\n",
    "\n",
    "def map2curve(x: CF):\n",
    "    return G @ x\n",
    "\n",
    "secret = \"sec\"\n",
    "Gs = list(map(map2curve,\n",
    "              (map(lambda x: int(x, 16), \n",
    "                  (map(lambda x: sha256(x.encode()).hexdigest(), sha256(secret.encode()).hexdigest()))))))\n",
    "\n",
    "\n",
    "def vgm(a: [CF]) -> [ECG]:\n",
    "    return reduce(lambda x,y: x+y,\n",
    "                  list(map(lambda a: a[0] @ a[1], zip(Gs, a))))\n",
    "\n",
    "def Cv(r:CF, a:[CF]):\n",
    "    return (H@r + vgm(a))"
   ]
  },
  {
   "cell_type": "markdown",
   "metadata": {},
   "source": [
    "### Homomorphism"
   ]
  },
  {
   "cell_type": "markdown",
   "metadata": {},
   "source": [
    "$$\n",
    "C(r_1, \\mathbf{v}_1)+C(r_2, \\mathbf{v}_2) = r_1H+\\mathbf{v_1}\\mathbf{G}+r_2H+\\mathbf{v}_2\\mathbf{G}=(r_1+r_2)H+(\\mathbf{v}_1+\\mathbf{v}_2)\\mathbf{G}=C(r_1+r_2, \\mathbf{v}_1+\\mathbf{v}_2)\n",
    "$$"
   ]
  },
  {
   "cell_type": "code",
   "execution_count": 10,
   "metadata": {},
   "outputs": [],
   "source": [
    "r_1, r_2 = random_cf(), random_cf()\n",
    "v_1, v_2 = [random_cf() for i in range(0, 5)], [random_cf() for i in range(0, 5)]"
   ]
  },
  {
   "cell_type": "code",
   "execution_count": 11,
   "metadata": {},
   "outputs": [],
   "source": [
    "assert Cv(r_1 + r_2, list(map(lambda x: x[0] + x[1], zip(v_1, v_2)))) == Cv(r_1, v_1) + Cv(r_2, v_2)\n"
   ]
  },
  {
   "cell_type": "markdown",
   "metadata": {},
   "source": [
    "### Perfect Hiding and Perfect Binding are incompatible\n",
    "\n",
    "The perdersen commitment is property as \"perfeact\" or \"satistical\" hiding\n",
    "\n",
    "But it's **not** binding, if **you know the discrete log of**.\n",
    "\n",
    "Consider, if I have commitment $C=rH+aG$, there is another $r'$ s.t. $C=r'H+a'G$ for any chosen $a'$;\n",
    "\n",
    "It’s just that we can’t ﬁnd that $r'$ without the ability to crack the ECDLP. But the fact that it even exists means that the commitment is a valid commitment to any value $a$, for the right $r$.\n",
    "\n",
    "the Pedersen commitment’s binding is not perfect – it is “computational”. What this means is that, much as discussed just above, in a case where the ECDLP was cracked, the binding property could fail and people could open the commitment to other values."
   ]
  },
  {
   "cell_type": "markdown",
   "metadata": {},
   "source": [
    "## IV Zero Knowledge argument of knowledge set of vectors"
   ]
  },
  {
   "cell_type": "markdown",
   "metadata": {},
   "source": [
    "There are three key properties of any zero knowledge proof:\n",
    "\n",
    "##### Completeness\n",
    "\t- Does an honest Prover successd in convincing the Verifier?\n",
    "    \n",
    "* Classical Proofs def:\n",
    "If $x \\in L,$, then there exists proofs s.t. $V(x, proof)$=accept.\n",
    "\n",
    "* Interactive Proofs def:\n",
    "If $G_0, G_1$ are non isomorphic then there is only one $b'$ such that $H \\approx G_{b'}$. In this case, $P$ always ansers $b'$ correctly. Hence, $b=b'$ always, and:\n",
    "$$\n",
    "Pr([P,V](1^n,x;1^n,x)=(1,1))=1\n",
    "$$\n",
    "\n",
    "#### Soundness\n",
    "\t- Does the Prover actually **prove** the truth of the statement.\n",
    "\n",
    "* Classical Proofs def:\n",
    "\n",
    "if $x \\notin L$, then for all $proof*$, $V(x, proof*)=reject.$\n",
    "\n",
    "* Interactive Proofs def:\n",
    "\n",
    "The probability that $P$ guesses $b$ correctly for all $|x|$ rounds is $\\frac{1}{|x|}$, which is negligible.\n",
    "\n",
    "##### Zero-Knowledgeness\n",
    "\t- Can we reveal that the Prover reveals nothing else than that the statement is true.\n",
    "    \n",
    "\n",
    "* Def:\n",
    "A proof system for a language L is an interactive proof $(V_L , P_L )$ for $L$, such that there is a probabilistic algorithm S (or \"Simulator\") that runs in expected polynomial time and such that for every string x ∈ L the distribution of outputs of $S(x)$ is identical to the distribution of views of $V_L$ of the interaction between $P_L$ and $V_L$ on input $x$.\n",
    "\t\n",
    "    \n",
    "ref: http://www.cs.tau.ac.il/~canetti/f09-materials/f09-scribe3.pdf"
   ]
  },
  {
   "cell_type": "markdown",
   "metadata": {},
   "source": [
    "An “argument of knowledge” is a technical term distinguished from “proof of knowledge”.\n",
    "\n",
    "The proof is only computational – an adversary with enough computing power may be able to convince you that he knows the secret value(s), even if he doesn’t.\n",
    "\n",
    "Here just assume that **Veriﬁer of the proof will interact with the Prover in real time.**"
   ]
  },
  {
   "cell_type": "markdown",
   "metadata": {},
   "source": [
    "Our argument of knowledge will come after we have generated a set of commitments for each of m vectors $x_1 , x_2 , \\cdots , x_m$ , each of the same dimension $N(\\neq m)$).Explicitly:\n",
    "\n",
    "$$\n",
    "C_1=r_1H + x_1G\\\\\n",
    "C_2=r_2H + x_2G\\\\\n",
    "\\vdots\\\\\n",
    "C_m=r_mH+x_mG\\\\\n",
    "$$"
   ]
  },
  {
   "cell_type": "code",
   "execution_count": 12,
   "metadata": {},
   "outputs": [],
   "source": [
    "m = 5\n",
    "N = 7\n",
    "x: [[CF]] = [[random_cf() for j in range(0, N)] for i in range(0, m)]\n",
    "r: [CF] = [random_cf() for i in range(0, m)]\n",
    "q: CF = random_cf()\n",
    "H: ECG = G@q\n",
    "C: [ECG] = list(map(lambda x: H @ x[0] + vgm(x[1]), zip(r, x)))"
   ]
  },
  {
   "cell_type": "markdown",
   "metadata": {},
   "source": [
    "#### The process:\n",
    "\n",
    "1. $P\\rightarrow V: C_0$ (0 (a new commitment to a newly chosen random vector of dimension $N$)\n",
    "\n",
    "2. $V\\rightarrow P: e$ (a random scalar)\n",
    "\n",
    "3. $P\\rightarrow V: (\\mathbf{z}, s)$(a single vector of dimension N, and another scalar)\n",
    "\n",
    "$$\n",
    "z=\\sum_{i=0}^m e^ix_i,\\ s=\\sum_{i=0}^m e^ir_i\n",
    "$$"
   ]
  },
  {
   "cell_type": "markdown",
   "metadata": {},
   "source": [
    "Note that the summations start at 0; this means that the sums include the extra, random commitment, indexed 0, that was created as the ﬁrst step of the interaction."
   ]
  },
  {
   "cell_type": "markdown",
   "metadata": {},
   "source": [
    "for $z=\\sum_{i=0}^m e^ix_i$, $z_n = x_0n + e*x_1n + . . . e^m*x_mn$, aht addition hides the individual values."
   ]
  },
  {
   "cell_type": "code",
   "execution_count": 13,
   "metadata": {},
   "outputs": [],
   "source": [
    "m = 5\n",
    "N = 7\n",
    "x: [[CF]] = [[random_cf() for j in range(0, N)] for i in range(0, m)]\n",
    "r: [CF] =  [random_cf() for i in range(0, m)]\n",
    "q: CF = random_cf()\n",
    "H: ECG = G@q\n",
    "C: [ECG] = list(map(lambda x: H @ x[0] + vgm(x[1]), zip(r, x)))\n",
    "\n",
    "from functools import reduce\n",
    "P, V = {}, {}\n",
    "\n",
    "# Step 1\n",
    "V['C_0'] = C[0]\n",
    "\n",
    "# Step 2\n",
    "V['e'] = random_cf()\n",
    "P['e'] = V['e']\n",
    "\n",
    "# Step 3\n",
    "# z: a single vector of dimension N\n",
    "# z_n = x_0n + e*x_1n + . . . e^m*x_mn ; \n",
    "\n",
    "P['z'] = [\n",
    "    reduce(lambda x, y: x + y , [x[i][j] @ (P['e'] ** (i)) for i in range(0, m)])\n",
    "    for j in range(0, N)\n",
    "]\n",
    "\n",
    "P['s'] = reduce(lambda x, y: x + y, [r[i] @ (P['e'] ** (i)) for i in range(0, m)])\n",
    "V['z'], V['s'] = P['z'], P['s']\n"
   ]
  },
  {
   "cell_type": "markdown",
   "metadata": {},
   "source": [
    "Having received this $(z, s)$, the verifer of course needs to verify whether the proof is valid. He does the following:"
   ]
  },
  {
   "cell_type": "markdown",
   "metadata": {},
   "source": [
    "$$\n",
    "\\sum_{i=0}^m e^iC_i \\stackrel{?}{=} sH+\\mathbf{z}\\mathbf{G}\n",
    "$$"
   ]
  },
  {
   "cell_type": "code",
   "execution_count": 14,
   "metadata": {},
   "outputs": [],
   "source": [
    "assert reduce(lambda x, y: x+y, [C[i] @ (P['e'] ** (i)) for i in range(0, m)]) == H @ V['s'] + vgm(V['z'])"
   ]
  },
  {
   "cell_type": "markdown",
   "metadata": {},
   "source": [
    "### Completness"
   ]
  },
  {
   "cell_type": "markdown",
   "metadata": {},
   "source": [
    "For RHS:\n",
    "\n",
    "\\begin{align*}\n",
    "\\sum_{i=0}^m e^iC_i &= sH+\\mathbf{zG} \\\\&=\\sum_{i=0}^m e^i (r_iH)+\\sum_{i=0}^m x^i\\mathbf{x_iG} \\\\\n",
    "&=\\sum_{i=0}^m (r_iH+\\mathbf{x_iG})\\\\\n",
    "&=\\sum_{i=0}^m e^iC_i\n",
    "\\end{align*}"
   ]
  },
  {
   "cell_type": "markdown",
   "metadata": {},
   "source": [
    "### Zero-knowledgeness"
   ]
  },
  {
   "cell_type": "markdown",
   "metadata": {},
   "source": [
    "We deal with zero knowledgeness before soundness, because the latter is the harder proof.\n",
    "\n",
    "\n",
    "If the distribution of transcripts of the conversation between Prover and Veriﬁer, in the case where the **veriﬁer’s execution environment is controlled** and it is run by a notional entity called a “**Simulator**”, and we can simulate a proof **without** actually having the knowledge, is the same distribution as that obtained for genuine conversations with Prover(s) who do know the opening of the vector commitments, it follows that the **Veriﬁer learns zero** from the interaction other than the aforementioned single bit.\n",
    "\n",
    "def:\n",
    "\n",
    "A “witness” is a piece of (usually secret) data corresponding to a “statement” which the Prover possesses but does not want to reveal."
   ]
  },
  {
   "cell_type": "markdown",
   "metadata": {},
   "source": [
    "#### E.g. : Schnorr’s identity protocol\n",
    "\n",
    "ref: https://crypto.stanford.edu/cs355/19sp/lec5.pdf"
   ]
  },
  {
   "cell_type": "markdown",
   "metadata": {},
   "source": [
    "Prover starts with a public key P and a corresponding private key $x$ s.t. $P = xG$.\n",
    "Prover wishes to prove in zero knowledge, that he knows $x$.\n",
    "\n",
    "1. $P\\rightarrow V:P=xG$\n",
    "2. $P\\rightarrow V:R$ (a new random curve point, but $P$ knows $k$ s.t. $R=kG$)\n",
    "3. $V\\rightarrow P:e$ (a random scalar)\n",
    "4. $P\\rightarrow V:s$ (which $P$ calcuated from the quation $s=k+ex$)\n",
    "\n",
    "Note: the transcript referred to above, would here be: $(R, e, s)$."
   ]
  },
  {
   "cell_type": "code",
   "execution_count": 15,
   "metadata": {},
   "outputs": [],
   "source": [
    "P, V = {}, {}\n",
    "x = random_cf()\n",
    "# step 1\n",
    "P['x'] = x\n",
    "V['P'] = G @ P['x']\n",
    "\n",
    "# step 2\n",
    "P['k'] = random_cf()\n",
    "V['R'] = G @ P['k']\n",
    "\n",
    "# step 3\n",
    "V['e'] = random_cf()\n",
    "P['e'] = V['e']\n",
    "\n",
    "# step 4\n",
    "P['s'] = P['k'] + P['e'] * P['x']\n",
    "V['s'] = P['s']\n",
    "\n",
    "transcript = V['R'], V['e'], V['s']"
   ]
  },
  {
   "cell_type": "markdown",
   "metadata": {},
   "source": [
    "Veriﬁcation works fairly trivially: veriﬁer checks $sG \\stackrel{?}{=} R+eP$.\n"
   ]
  },
  {
   "cell_type": "code",
   "execution_count": 16,
   "metadata": {},
   "outputs": [],
   "source": [
    "assert G @ V['s'] == V['R'] + V['P'] @ V['e']"
   ]
  },
  {
   "cell_type": "markdown",
   "metadata": {},
   "source": [
    "It may be entirely valid to the interacting Veriﬁer, but entirely **meaningless** (as in this case) to a third party who is shown the transcript later."
   ]
  },
  {
   "cell_type": "markdown",
   "metadata": {},
   "source": [
    "##### zero knowledgeness proof:"
   ]
  },
  {
   "cell_type": "markdown",
   "metadata": {},
   "source": [
    "\n",
    "The “Simulator”, which controls the execution of the veriﬁer, given the public key P, just as the Veriﬁer would be, can **fake** a valid transcript as follows:\n",
    "\n",
    "Choose $s$ randomly. Then, choose $e$, also randomly. Finally, we only need to choose $R$ to create a complete conversation transcript; it must be $R = sG − eP$. \n",
    "\n",
    "$$\n",
    "R=sG-eP\\\\\n",
    "kG=sG-eP\\\\\n",
    "sG=kG+eP\\\\\n",
    "sG=kG+xeG\\\\\n",
    "s=k+ex\\\\\n",
    "$$\n",
    "\n",
    "Then we have successfully simulated a conversation which is entirely valid: $(R, e, s)$, without ever knowing the secret key $x$, and which it’s easy to see is randomly distributed in the same way as a real one would be ($R$ is a free variable)."
   ]
  },
  {
   "cell_type": "code",
   "execution_count": 17,
   "metadata": {},
   "outputs": [],
   "source": [
    "s, e = random_cf(), random_cf()\n",
    "R = G @ s - V['P'] @ e"
   ]
  },
  {
   "cell_type": "code",
   "execution_count": 18,
   "metadata": {},
   "outputs": [],
   "source": [
    "assert G @ s == R + V['P'] @ e"
   ]
  },
  {
   "cell_type": "markdown",
   "metadata": {},
   "source": [
    "Another way of looking at it is that this kind of proof is **deniable** –\n",
    "\n",
    "**it may be entirely valid to the interacting Veriﬁer，but entirely meaningless (as in this case) to a third party who is shown the transcript later.**"
   ]
  },
  {
   "cell_type": "markdown",
   "metadata": {},
   "source": [
    "##### For Vector proof of knowledge case:"
   ]
  },
  {
   "cell_type": "markdown",
   "metadata": {},
   "source": [
    "The conversation transcipts looks like: $(C_0, e, (\\mathbf{z}, s)$, which is almost the same, except that the ﬁnal portion is a vector + a scalar instead of a single scalar.\n",
    "\n",
    "And so the same reasoning applies: **a Simulator can fake the transcript by choosing out of order**."
   ]
  },
  {
   "cell_type": "markdown",
   "metadata": {},
   "source": [
    "involved issue here: you choose $(\\mathbf{z}, s)$ both at random, as well as $e$, and you can deduce the right value of the point:"
   ]
  },
  {
   "cell_type": "markdown",
   "metadata": {},
   "source": [
    "$$\n",
    "C_0 = (sH+zG) - \\sum_{i=1}^m e^iC^i\n",
    "$$\n",
    "\n",
    "The $C 1 , C 2 , . . . , C$ m are all set in advance."
   ]
  },
  {
   "cell_type": "markdown",
   "metadata": {},
   "source": [
    "Now we try to do the prove via random $\\mathbf{z}, s, e$"
   ]
  },
  {
   "cell_type": "code",
   "execution_count": 19,
   "metadata": {},
   "outputs": [],
   "source": [
    "z = [random_cf() for i in range(0, N)]\n",
    "s = random_cf()\n",
    "e = random_cf()"
   ]
  },
  {
   "cell_type": "code",
   "execution_count": 20,
   "metadata": {},
   "outputs": [],
   "source": [
    "q: CF = random_cf()\n",
    "H: ECG = G@q"
   ]
  },
  {
   "cell_type": "code",
   "execution_count": 21,
   "metadata": {},
   "outputs": [],
   "source": [
    "C_0 = H @ s + vgm(z) - reduce(lambda x, y: x + y, [C[i] @ e ** (i) for i in range(1, m)])"
   ]
  },
  {
   "cell_type": "markdown",
   "metadata": {},
   "source": [
    "$$\n",
    "\\sum_{i=0}^m e^iC_i \\stackrel{?}{=} sH+\\mathbf{z}\\mathbf{G}\n",
    "$$"
   ]
  },
  {
   "cell_type": "markdown",
   "metadata": {},
   "source": [
    "$$\n",
    "C_0 + \\sum_{i=1}^m e^iC_i \\stackrel{?}{=} sH+\\mathbf{z}\\mathbf{G}\n",
    "$$"
   ]
  },
  {
   "cell_type": "markdown",
   "metadata": {},
   "source": [
    "We provide $(C_0, e, (\\mathbf{z}, s))$"
   ]
  },
  {
   "cell_type": "code",
   "execution_count": 22,
   "metadata": {},
   "outputs": [],
   "source": [
    "assert reduce(lambda x, y: x+y, [([C_0] + C[1:])[i] @ (e ** (i)) for i in range(0, m)]) == H @ s + vgm(z)"
   ]
  },
  {
   "cell_type": "markdown",
   "metadata": {},
   "source": [
    "**The entire transcript will look valid to a third party**"
   ]
  },
  {
   "cell_type": "markdown",
   "metadata": {},
   "source": [
    "### Knowledge sondness - does a verifying interaction actually prove knowledge of the vectors?"
   ]
  },
  {
   "cell_type": "markdown",
   "metadata": {},
   "source": [
    "Proving “soundness” is somehow complementary/“opposite” to proving zero knowledge, in the following sense: the idea here is to isolate/control the oper- ation of the Prover, as a machine, rather than isolate the veriﬁer."
   ]
  },
  {
   "cell_type": "markdown",
   "metadata": {},
   "source": [
    "If we can control the Prover’s environment and by doing so get him to spit out the secret information (the “witness”), it follows that he must have it in the ﬁrst place!\n"
   ]
  },
  {
   "cell_type": "markdown",
   "metadata": {},
   "source": [
    "* God (The Extractor) Stealing the secret from the Prover(Machine)\n",
    "    - **imagine the Prover is literally a function. You can start running it, stop at any point (imagine debugger breakpoints). Crucially you can make copies of its current state.**"
   ]
  },
  {
   "cell_type": "markdown",
   "metadata": {},
   "source": [
    "#### E.g. In the Schnorr identity protocol case:"
   ]
  },
  {
   "cell_type": "markdown",
   "metadata": {},
   "source": [
    "we get the Prover to run twice, but only after the same initial random point $R$. So imagine I as “Extractor” (what we call the “God” controlling the Prover) create two runs of the protocol with two diﬀerent values $e_1$ , $e_2$ against the same initial $R$, then:\n",
    "\n",
    "\\begin{align*}\n",
    "s_1 = k+e_1x\\\\\n",
    "s_2=k+e_2x\n",
    "\\end{align*}\n",
    "\n",
    "$$\n",
    "\\rightarrow x = \\frac{s_1-s_2}{e_1-e_2}\n",
    "$$\n"
   ]
  },
  {
   "cell_type": "markdown",
   "metadata": {},
   "source": [
    "Secret $x$ is **LEAK**!"
   ]
  },
  {
   "cell_type": "markdown",
   "metadata": {},
   "source": [
    "Thus, the Extractor get the secret key in two runs of the protocol that happened to share the same “nonce” point $R$ (remember, $R = kG$ and it’s the same in both runs here). This is such a widely known “exploit” of both Schnorr and ECDSA signatures (when wrongly implemented)"
   ]
  },
  {
   "cell_type": "markdown",
   "metadata": {},
   "source": [
    "#### Back to Knowledge of set of vector case"
   ]
  },
  {
   "cell_type": "markdown",
   "metadata": {},
   "source": [
    "* First point:\n",
    "\n",
    "We need to get the Prover to output not just two transcripts, but m+1. This will be enough to prevent the system of equations from being underdetermined, i.e. it will give us a unique solution.\n",
    "\n",
    "we have the Extractor start the Prover, who gener- ates here a $C_0$ , then provide it with a random challenge $e$, then retrieve from it a pair $(\\mathbf{z}, s)$. Assuming that this response is valid, we can repeat the process, a total of $m + 1$ times, resulting in this set of transcripts:"
   ]
  },
  {
   "cell_type": "code",
   "execution_count": 23,
   "metadata": {},
   "outputs": [],
   "source": [
    "def gen_ts():\n",
    "    z = [random_cf() for i in range(0, N)]\n",
    "    s = random_cf()\n",
    "    e = random_cf()\n",
    "    C_0 = H @ s + vgm(z) - reduce(lambda x, y: x + y, [C[i] @ e ** (i) for i in range(1, m)])\n",
    "    return (C_0, e, (z, s))"
   ]
  },
  {
   "cell_type": "code",
   "execution_count": 24,
   "metadata": {},
   "outputs": [],
   "source": [
    "ts_set = [gen_ts() for i in range(0, m+1)]"
   ]
  },
  {
   "cell_type": "markdown",
   "metadata": {},
   "source": [
    "Then Extractor start to constructing the Vandermonde matrix:"
   ]
  },
  {
   "cell_type": "code",
   "execution_count": 25,
   "metadata": {},
   "outputs": [],
   "source": [
    "from numpy import matrix"
   ]
  },
  {
   "cell_type": "code",
   "execution_count": 26,
   "metadata": {},
   "outputs": [],
   "source": [
    "A_rev = [[ts[1] ** i for i in range(0, m + 1)] for ts in ts_set]"
   ]
  },
  {
   "cell_type": "markdown",
   "metadata": {},
   "source": [
    "$$\n",
    "\\mathbb{A}^{-1}= \\begin{bmatrix}\n",
    "    1       & e_0 & e_{0}^2 & \\dots & e_0^m \\\\\n",
    "    1       & e_1 & e_1^2 & \\dots & e_1^m \\\\\n",
    "    \\vdots \\\\\n",
    "    1       & e_m & e_m^2 & \\dots & e_m^m\n",
    "\\end{bmatrix}\n",
    "$$"
   ]
  },
  {
   "cell_type": "markdown",
   "metadata": {},
   "source": [
    "The Vandermonde matrix, acting on the column vector of a set of coeﬃcients of a polynomial, outputs a new column vec- tor which represents the evaluation of that polynomial at each of the points."
   ]
  },
  {
   "cell_type": "markdown",
   "metadata": {},
   "source": [
    "this means the $inverse$ of that matrix, if it $exists$, therefore maps a set of $m+1$ polynomial evaluations (the polynomial here has degree $m$), back to its set of coeﬃcients, and most crucially that mapping is one-one and therefore the solution is unique."
   ]
  },
  {
   "cell_type": "markdown",
   "metadata": {},
   "source": [
    "**a set of $N + 1$ evaluations ﬁxes a polynomial of degree $N$.**"
   ]
  },
  {
   "cell_type": "markdown",
   "metadata": {},
   "source": [
    "##### To be continue ...."
   ]
  },
  {
   "cell_type": "markdown",
   "metadata": {},
   "source": [
    "### Aside: the Sigma protocol"
   ]
  },
  {
   "cell_type": "markdown",
   "metadata": {},
   "source": [
    "1. $P\\rightarrow V:R$ (a new random curve point, but $P$ knows $k$ s.t. $R=kG$.\n",
    "\n",
    "2. $V \\rightarrow P: e$ (a random salar)\n",
    "\n",
    "3. $P \\rightarrow V: s$ (which $P$ calculated from eq. $s=k+ex$\n",
    "\n",
    "The transcript is: $(R, e, s)$\n",
    "\n",
    "===== And =====\n",
    "\n",
    "1. $P \\rightarrow V: C_0$ (a new commitment to a newly chosen random vector of dim N)\n",
    "\n",
    "2. $V \\rightarrow P: e$ (a random scalar)\n",
    "\n",
    "3. $P \\rightarrow V:(\\mathbf{z}, s)$ (a single vector of fim $N$, and another scalar)\n",
    "\n",
    "The transcript is: $(C_0, e, (\\mathbf{z}, s))$"
   ]
  },
  {
   "cell_type": "markdown",
   "metadata": {},
   "source": [
    "(the ﬁrst was Schnorr’s identity protocol; the second was the proof of knowledge of a set of vectors).\n",
    "\n",
    "**These are both examples of Sigma protocols**, so called because of a vague resemblance to the greek letter $\\Sigma$, in that the process goes forwards once, then backwards, then forwards ﬁnally. The common pattern, though, is more than this three step interactive process. We generalise it as something like:\n",
    "\n",
    "1. $P\\rightarrow V:$ commitment\n",
    "\n",
    "2. $V \\rightarrow P$: callange\n",
    "\n",
    "3. $P \\rightarrow V$: response (proof)\n"
   ]
  },
  {
   "cell_type": "markdown",
   "metadata": {},
   "source": [
    "## V An inner product proof"
   ]
  },
  {
   "cell_type": "markdown",
   "metadata": {},
   "source": [
    "In Groth’s paper, he presents the core algorithm, which probably- not-coincidentally is also the core of Bulletproofs. The inner product proof here uses all the same elements as we’ve discussed above, although in a slightly more complicated structure."
   ]
  },
  {
   "cell_type": "markdown",
   "metadata": {},
   "source": [
    "**It starts by assuming that the Prover has two vectors $x$ and $y$, and obviously knows the inner product of those, which we’ll now call $z$.**"
   ]
  },
  {
   "cell_type": "markdown",
   "metadata": {},
   "source": [
    "The Prover’s job will now be to convince the veriﬁer that Pedersen commitments to these three quantities obey $z = \\mathbf{x}· \\mathbf{y}$; so we assume upfront that the three commitments are known, we’ll call them from now $Cz , C_x , C_y$ :"
   ]
  },
  {
   "cell_type": "markdown",
   "metadata": {},
   "source": [
    "$$\n",
    "C_z=tH+zG\\\\\n",
    "C_x=rH+\\mathbf{xG}\\\\\n",
    "C_y=sH+\\mathbf{yG}\n",
    "$$"
   ]
  },
  {
   "cell_type": "markdown",
   "metadata": {},
   "source": [
    "### 1. The commitment step"
   ]
  },
  {
   "cell_type": "markdown",
   "metadata": {},
   "source": [
    "Analogous to the $R$ value of above two, The Prover $P$ will need to send commitments to two nonce vectors ($\\mathbf{x, y}$).\n",
    "\n",
    "These nonce vectors will be called $\\mathbf{d}_x, \\mathbf{d}y$.\n",
    "\n",
    "Instead of sending $\\mathbf{d}_x , \\mathbf{d}_y$ , the Prover will instead send Pedersen commitments to them:"
   ]
  },
  {
   "cell_type": "code",
   "execution_count": 27,
   "metadata": {},
   "outputs": [],
   "source": [
    "m = 10\n",
    "x = [random_cf() for i in range(0, m)]\n",
    "y = [random_cf() for i in range(0, m)]\n",
    "\n",
    "def inner_product(x: [CF], y: [CF]):\n",
    "    return reduce(lambda x, y: x + y, map(lambda x: x[0] * x[1], zip(x, y)))\n",
    "\n",
    "z = inner_product(x, y)\n",
    "H = G @ random_cf()\n",
    "\n",
    "t, r, s = random_cf(), random_cf(), random_cf()\n",
    "\n",
    "C_z = H@t + G@z\n",
    "C_x = H@r + vgm(x)\n",
    "C_y = H@s + vgm(y)"
   ]
  },
  {
   "cell_type": "markdown",
   "metadata": {},
   "source": [
    "$$\n",
    "A_d = r_dH + \\mathbf{d}_x\\mathbf{G}\\\\\n",
    "B_d = s_dH + \\mathbf{d}_y\\mathbf{G}\n",
    "$$\n",
    "\n",
    "$r_d , s_d$ will be random values as usual for Pedersen commitments.\n",
    "\n",
    "Just as the ﬁnal Schnorr response is $ex + k$, so here our ﬁnal response(s) are of the form $e\\mathbf{x} + \\mathbf{d}$, more speciﬁcally, one for each: \n",
    "\n",
    "$$\n",
    "e\\mathbf{x} + \\mathbf{d}_x\\\\\n",
    "e\\mathbf{y} + \\mathbf{d}_y\\\\\n",
    "$$"
   ]
  },
  {
   "cell_type": "code",
   "execution_count": 28,
   "metadata": {},
   "outputs": [],
   "source": [
    "dx = [random_cf() for i in range(0, m)]\n",
    "dy = [random_cf() for i in range(0, m)]\n",
    "r_d, s_d = random_cf(), random_cf()\n",
    "\n",
    "A_d = H @ r_d + vgm(dx)\n",
    "B_d = H @ s_d + vgm(dy)"
   ]
  },
  {
   "cell_type": "markdown",
   "metadata": {},
   "source": [
    "However, that’s not enough; we’re trying to prove an inner product, too.\n",
    "\n",
    "What we’ll have to do also in the commitment step is to send a commitment to the expected inner product of this $blinded$ form of our vectors. The blinded form has already been mentioned as $e\\mathbf{x} + \\mathbf{d}_x$ , $e\\mathbf{y} + \\mathbf{d}_y$ , but we don’t yet know the challenge $e$, so we have to factor that out somehow.\n",
    "\n",
    "Now, **$e$ is a linear factor** in each of these terms, so dot-product-ing them$(e\\mathbf{x} + \\mathbf{d}_x)\\cdot(e\\mathbf{y} + \\mathbf{d}_y)$will result in a **quadratic in $e$**, so there will be three coeﬃcients, and we’ll therefore need to provide commitments in advance for each of these three coeﬃcients."
   ]
  },
  {
   "cell_type": "markdown",
   "metadata": {},
   "source": [
    "\\begin{align*}\n",
    "(e\\mathbf{x} + \\mathbf{d}_x)·(e\\mathbf{y} + \\mathbf{d}_y) &= e\\mathbf{x}·(e\\mathbf{y}+\\mathbf{d}_y) + \\mathbf{d}_x·(e\\mathbf{y}+\\mathbf{d}_y) \\\\\n",
    "&= e^2\\mathbf{x} · \\mathbf{y} + e^2(\\mathbf{x} ·\\mathbf{d}_y + \\mathbf{y}· \\mathbf{d}_x) + \\mathbf{d}_x· \\mathbf{d}_y\n",
    "\\end{align*}\n"
   ]
  },
  {
   "cell_type": "markdown",
   "metadata": {},
   "source": [
    "We known that:\n",
    "\n",
    "$$\n",
    "z = \\mathbf{d}_x· \\mathbf{d}_y\\\\\n",
    "C_z=tH+zG\\\\\n",
    "$$\n",
    "\n",
    "So we’ll therefore need to provide two additional commitments:"
   ]
  },
  {
   "cell_type": "markdown",
   "metadata": {},
   "source": [
    "$$\n",
    "C_1 = t_1H + (\\mathbf{x}·\\mathbf{d}_y+\\mathbf{y}·\\mathbf{d}_x)G\\\\\n",
    "C_0 = t_0H+(\\mathbf{d}_x·\\mathbf{d}_y)G\\\\\n",
    "$$\n",
    "\n",
    "Thus we got (Comm stand for Pedersen commitment) :\n",
    "$$\n",
    "Comm((e\\mathbf{x} + \\mathbf{d}_x)\\cdot(e\\mathbf{y} + \\mathbf{d}_y)) = e^2C_z + e^2C_1 + C_0\n",
    "$$"
   ]
  },
  {
   "cell_type": "code",
   "execution_count": 29,
   "metadata": {},
   "outputs": [],
   "source": [
    "t1, t0 = random_cf(), random_cf()\n",
    "\n",
    "C_1 = H@t1 + G@(inner_product(x, dy) + inner_product(y, dx))\n",
    "C_0 = H@t0 + G@inner_product(dx, dy)\n"
   ]
  },
  {
   "cell_type": "markdown",
   "metadata": {},
   "source": [
    "So to do all this in the commitment step, the Prover had to come up with 4 random scalars $r_d$ , $s_d$ , $t_1$ , $t_0$ and two random vectors $\\mathbf{d}_x$ , $\\mathbf{d}_y$ and then send 4 Pedersen commitments using this data: $A_d , B_d , C_1 , C_0$.\n",
    "\n",
    "$$\n",
    "(r_d , s_d , t_1 , t_0, A_d , B_d , C_1 , C_0)\n",
    "$$\n"
   ]
  },
  {
   "cell_type": "markdown",
   "metadata": {},
   "source": [
    "The commitment should be:\n",
    "\n",
    "$$\n",
    "(A_d, B_d, C_1, C_0)\n",
    "$$"
   ]
  },
  {
   "cell_type": "code",
   "execution_count": 30,
   "metadata": {},
   "outputs": [
    {
     "data": {
      "text/plain": [
       "(EllipticCurveGroupSecp256k1::(FiniteFieldSecp256k1::107296709053369096896019338157260914018838120260700826036278518553079215056466, FiniteFieldSecp256k1::77568923792984566617605484883939490785699525518622088879361106068326887339150),\n",
       " EllipticCurveGroupSecp256k1::(FiniteFieldSecp256k1::110615271327284575327623265355917185658846175240444091042980971154499916523599, FiniteFieldSecp256k1::87739299285397358992301153180942992237469949801877638244691286647809203570976),\n",
       " EllipticCurveGroupSecp256k1::(FiniteFieldSecp256k1::63332741828529211778439861392811059766246385579451319379906017464478470924295, FiniteFieldSecp256k1::68926615334820379836895905128027899357626545050561183660245822174315433904240),\n",
       " EllipticCurveGroupSecp256k1::(FiniteFieldSecp256k1::40310417929055891074976476877034803677213564495612382129320555979658680066630, FiniteFieldSecp256k1::80021093934540213408010330224258582906083447608942586519179154315665352282518))"
      ]
     },
     "execution_count": 30,
     "metadata": {},
     "output_type": "execute_result"
    }
   ],
   "source": [
    "(A_d, B_d, C_1, C_0)"
   ]
  },
  {
   "cell_type": "markdown",
   "metadata": {},
   "source": [
    "### 2. The challange step\n",
    "\n",
    "Nothing to discuss here – the Veriﬁer simply sends a single scalar value $e$."
   ]
  },
  {
   "cell_type": "code",
   "execution_count": 10,
   "metadata": {},
   "outputs": [],
   "source": [
    "e = random_cf()"
   ]
  },
  {
   "cell_type": "markdown",
   "metadata": {},
   "source": [
    "### 3. The response step"
   ]
  },
  {
   "cell_type": "markdown",
   "metadata": {},
   "source": [
    "The above detailed discussion will hopefully make the following set of data, sent by the Prover, less bewildering:"
   ]
  },
  {
   "cell_type": "markdown",
   "metadata": {},
   "source": [
    "\\begin{align*}\n",
    "\\mathbf{f}_x &= e\\mathbf{x}+\\mathbf{d}_x \\\\\n",
    "\\mathbf{f}_y &= e\\mathbf{y}+\\mathbf{d}_y \\\\\n",
    "r_x&=er+r_d\\\\\n",
    "s_y&=es+s_d\\\\\n",
    "t_z&=e^2t+et_1+t_0\n",
    "\\end{align*}\n",
    "\n",
    "\n"
   ]
  },
  {
   "cell_type": "code",
   "execution_count": 32,
   "metadata": {},
   "outputs": [],
   "source": [
    "fx = [e*x[i] + dx[i] for i in range(0, m)]\n",
    "fy = [e*y[i] + dy[i] for i in range(0, m)]\n",
    "rx = e*r + r_d\n",
    "sy = e*s + s_d\n",
    "tz = (e**2) * t + e * t1 + t0"
   ]
  },
  {
   "cell_type": "markdown",
   "metadata": {},
   "source": [
    "note that here we are sending the blinded forms $f_x , f_y$ of the two vectors, not the Pedersen commitments – the idea is that the Veriﬁer will verify precisely by reconstructing the commitments and checking they match $C_x , C+y$ . Those two checks are:\n",
    "\n",
    "\\begin{align*}\n",
    "eC_x+A_d &\\stackrel{?}{=} r_xH+\\mathbf{f}_x\\mathbf{G}\\\\\n",
    "eC_y+B_d &\\stackrel{?}{=} s_yH+\\mathbf{f}_y\\mathbf{G}\\\\\n",
    "t_zH+ (\\mathbf{f}_x \\cdot \\mathbf{f}_y)G &\\stackrel{?}{=}e^2C_z + eC_1 + C_0\n",
    "\\end{align*}\n",
    "\n"
   ]
  },
  {
   "cell_type": "code",
   "execution_count": 33,
   "metadata": {},
   "outputs": [],
   "source": [
    "assert C_x @ e + A_d == H @ rx + vgm(fx)\n",
    "assert C_y @ e + B_d == H @ sy + vgm(fy)"
   ]
  },
  {
   "cell_type": "code",
   "execution_count": 34,
   "metadata": {},
   "outputs": [],
   "source": [
    "assert H @ tz + G @ inner_product(fx, fy) == C_z @ (e**2) + C_1 @ e + C_0"
   ]
  },
  {
   "cell_type": "markdown",
   "metadata": {},
   "source": [
    "#### Overview:\n",
    "\n",
    "1. $P \\rightarrow V: (A_d, B_d, C_1, C_0)$\n",
    "2. $V \\rightarrow P: e$\n",
    "3. $P \\rightarrow V: (\\mathbf{f}_x,\\mathbf{f}_y, r_x, s_y, t_z)\n",
    "$\n",
    "\n",
    "\n",
    "The transcript is $((A_d, B_d, C_1, C_0), e, ( \\mathbf{f}_x,\\mathbf{f}_y, r_x, s_y, t_z))$\n"
   ]
  },
  {
   "cell_type": "markdown",
   "metadata": {},
   "source": [
    "#### Completeness\n",
    "\n",
    "\n",
    "The $r_x , s_y$ were chosen to make the random values equate in the relevant Peder- sen commitments. It’s not hard to see that these equations will verify for honest behaviour:"
   ]
  },
  {
   "cell_type": "markdown",
   "metadata": {},
   "source": [
    "\\begin{align*}\n",
    "eC_x+A_d&=e(rH+\\mathbf{xG})+r_dH+\\mathbf{d}_x\\mathbf{G}\\\\\n",
    "&=(er+r_d)H+(e\\mathbf{x}+\\mathbf{d}_x)G\\\\\n",
    "&=r_xH+\\mathbf{f}_x\\mathbf{G}\n",
    "\\end{align*}\n"
   ]
  },
  {
   "cell_type": "markdown",
   "metadata": {},
   "source": [
    "\\begin{align*}\n",
    "eC_y+B_d&=e(rH+\\mathbf{yG})+s_dH+\\mathbf{d}_y\\mathbf{G}\\\\\n",
    "&=(er+s_d)H+(ey+\\mathbf{d}_y)G\\\\\n",
    "&=s_yH+\\mathbf{f}_y\\mathbf{G}\n",
    "\\end{align*}"
   ]
  },
  {
   "cell_type": "markdown",
   "metadata": {},
   "source": [
    "To ensures that the inner product is correct, $t_z$ is needed for the third check.\n",
    "\n",
    "\\begin{align*}\n",
    "\\mathbf{f}_x \\cdot \\mathbf{f}_y &\\stackrel{?}{=} e^2\\mathbf{x} · \\mathbf{y} + e(\\mathbf{x} ·\\mathbf{d}_y + \\mathbf{y}· \\mathbf{d}_x) + \\mathbf{d}_x· \\mathbf{d}_y\\\\\n",
    "&\\stackrel{?}{=} e^2z + e(\\mathbf{x} ·\\mathbf{d}_y + \\mathbf{y}· \\mathbf{d}_x) + \\mathbf{d}_x· \\mathbf{d}_y\\\\\n",
    "Comm(\\mathbf{f}_x \\cdot \\mathbf{f}_y) &\\stackrel{?}{=} e^2(Comm(z)) + e(Comm(\\mathbf{x} ·\\mathbf{d}_y + \\mathbf{y}· \\mathbf{d}_x)) + Comm(\\mathbf{d}_x· \\mathbf{d}_y)\\\\\n",
    "Comm(\\mathbf{f}_x \\cdot \\mathbf{f}_y) &\\stackrel{?}{=} e^2C_z + e(Comm(\\mathbf{x} ·\\mathbf{d}_y + \\mathbf{y}· \\mathbf{d}_x)) + Comm(\\mathbf{d}_x· \\mathbf{d}_y)\\\\\n",
    "Comm(\\mathbf{f}_x \\cdot \\mathbf{f}_y) &\\stackrel{?}{=} e^2C_z + eC_1 + C_0\\\\\n",
    "t_zH+ (\\mathbf{f}_x \\cdot \\mathbf{f}_y)G &\\stackrel{?}{=}e^2C_z + eC_1 + C_0\n",
    "\\end{align*}\n"
   ]
  },
  {
   "cell_type": "markdown",
   "metadata": {},
   "source": [
    "## VI Ref:\n",
    "\n",
    "* [1] From ZK to bulletproof, Adam Gibson, https://github.com/AdamISZ\n",
    "* [2] Interactive Proofs and Zero Knowledge, Ran Canetti, Alon Rosen, Fall 2009\n",
    "\n"
   ]
  },
  {
   "cell_type": "code",
   "execution_count": null,
   "metadata": {},
   "outputs": [],
   "source": []
  }
 ],
 "metadata": {
  "kernelspec": {
   "display_name": "Python 3",
   "language": "python",
   "name": "python3"
  },
  "language_info": {
   "codemirror_mode": {
    "name": "ipython",
    "version": 3
   },
   "file_extension": ".py",
   "mimetype": "text/x-python",
   "name": "python",
   "nbconvert_exporter": "python",
   "pygments_lexer": "ipython3",
   "version": "3.8.2"
  }
 },
 "nbformat": 4,
 "nbformat_minor": 2
}
